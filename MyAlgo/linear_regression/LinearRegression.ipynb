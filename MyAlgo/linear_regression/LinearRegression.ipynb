{
 "cells": [
  {
   "cell_type": "code",
   "execution_count": 94,
   "metadata": {},
   "outputs": [],
   "source": [
    "import numpy as np\n",
    "import matplotlib.pyplot as plt\n",
    "import seaborn as sns\n",
    "from sklearn.base import BaseEstimator\n",
    "\n",
    "sns.set()"
   ]
  },
  {
   "cell_type": "code",
   "execution_count": 167,
   "metadata": {},
   "outputs": [
    {
     "name": "stdout",
     "output_type": "stream",
     "text": [
      "[10 11 12]\n",
      "[[ 1.  1.  2.]\n",
      " [ 1.  3.  4.]\n",
      " [ 1.  5.  6.]]\n",
      "[[10 33 60]\n",
      " [20 44 72]]\n",
      "[  45.   91.  137.]\n",
      "[  45.   91.  137.]\n"
     ]
    }
   ],
   "source": [
    "a = np.array( [x for x in range(10,13)])\n",
    "print(a)\n",
    "b = np.array([ [1,2], [3,4],[5,6] ])\n",
    "b1 = np.hstack([np.ones((3,1)), b])\n",
    "\n",
    "print(b1)\n",
    "\n",
    "print(b.T*a)\n",
    "\n",
    "print(b1@a)\n",
    "print(a@b1.T)"
   ]
  },
  {
   "cell_type": "code",
   "execution_count": 168,
   "metadata": {},
   "outputs": [
    {
     "name": "stdout",
     "output_type": "stream",
     "text": [
      "[[  0.09799661]\n",
      " [  0.88320853]\n",
      " [  0.93820052]\n",
      " [  1.56441289]\n",
      " [  1.70812288]\n",
      " [  2.7112491 ]\n",
      " [  3.63602301]\n",
      " [  3.22160387]\n",
      " [  3.91835908]\n",
      " [  4.98565171]\n",
      " [  5.29757045]\n",
      " [  5.30450672]\n",
      " [  7.04496822]\n",
      " [  7.16187785]\n",
      " [  7.51919609]\n",
      " [  8.4113977 ]\n",
      " [  8.10080633]\n",
      " [  7.98545753]\n",
      " [ 10.03998709]\n",
      " [  9.86683604]]\n",
      "[-0.9706182   0.85738986  1.18850699  0.69915631  2.41657441  1.97442718\n",
      "  2.75984937  3.16822193  5.58348895  5.78089758  5.39997677  6.31123806\n",
      "  6.60710538  6.94889734  7.77355182  7.31649367  8.22988152  9.68690889\n",
      "  9.57022222  9.63130875]\n"
     ]
    },
    {
     "data": {
      "image/png": "[encoded data removed]",
      "text/plain": [
       "<matplotlib.figure.Figure at 0x7fbc3d216160>"
      ]
     },
     "metadata": {},
     "output_type": "display_data"
    }
   ],
   "source": [
    "np.random.seed(26)\n",
    "m = 20\n",
    "line = np.linspace(0, 10, m)\n",
    "points = np.random.randn(m, 2) * 0.5 + line.reshape(-1, 1)\n",
    "X = points[:, 0].reshape(-1, 1)\n",
    "print(X)\n",
    "y = points[:, 1]\n",
    "print(y)\n",
    "plt.scatter(points[:, 0], points[:, 1])\n",
    "plt.ylim(0, 10);\n",
    "plt.show()"
   ]
  },
  {
   "cell_type": "code",
   "execution_count": 217,
   "metadata": {},
   "outputs": [],
   "source": [
    "class MyLinearRegression(BaseEstimator):\n",
    "    def __init__(self, alpha=0.01, iters=10000):\n",
    "        self.alpha = alpha\n",
    "        self.iters = iters\n",
    "    def fit(self,X,y):\n",
    "        # X is matrix\n",
    "        # y is row\n",
    "        (m, n) = X.shape\n",
    "        \n",
    "        # we append xo = 1 to X\n",
    "        X = np.hstack([np.ones( (m,1) ),X])\n",
    "        \n",
    "        # random coef\n",
    "        theta = np.random.rand(n + 1)\n",
    "        print((X @ theta ).shape)\n",
    "        print((theta @ X.T).shape)\n",
    "        for _it in range(0, self.iters):\n",
    "            theta -= self.alpha * ( ( (X @ theta - y) * X.T ) .sum(1) / m )\n",
    "        self.theta = theta\n",
    "        self.coef_ = theta[1:]\n",
    "        self.intercept_ = theta[0]\n",
    "        return self\n",
    "        \n",
    "        \n",
    "    def predict(self,X):\n",
    "        (m,n) = X.shape\n",
    "        X = np.hstack([np.ones((m,1)),X])\n",
    "        return X @ self.theta"
   ]
  },
  {
   "cell_type": "code",
   "execution_count": 218,
   "metadata": {},
   "outputs": [
    {
     "name": "stdout",
     "output_type": "stream",
     "text": [
      "[ 1.02134823]\n",
      "-0.0803630253747\n",
      "(20,)\n",
      "[ 1.02134823]\n",
      "-0.0803630253722\n",
      "[ 5.02637811]\n",
      "[ 5.02637811]\n"
     ]
    }
   ],
   "source": [
    "from sklearn.linear_model import LinearRegression\n",
    "\n",
    "sk = LinearRegression().fit(X,y)\n",
    "print(sk.coef_)\n",
    "print(sk.intercept_)\n",
    "\n",
    "my = MyLinearRegression().fit(X,y)\n",
    "print(my.coef_)\n",
    "print(my.intercept_)\n",
    "\n",
    "print(sk.predict(5))\n",
    "print(my.predict(np.array([ [5] ] )))\n",
    "\n"
   ]
  },
  {
   "cell_type": "code",
   "execution_count": null,
   "metadata": {},
   "outputs": [],
   "source": []
  }
 ],
 "metadata": {
  "kernelspec": {
   "display_name": "Python 3",
   "language": "python",
   "name": "python3"
  },
  "language_info": {
   "codemirror_mode": {
    "name": "ipython",
    "version": 3
   },
   "file_extension": ".py",
   "mimetype": "text/x-python",
   "name": "python",
   "nbconvert_exporter": "python",
   "pygments_lexer": "ipython3",
   "version": "3.5.2"
  }
 },
 "nbformat": 4,
 "nbformat_minor": 2
}

{
 "cells": [
  {
   "cell_type": "code",
   "execution_count": 1,
   "metadata": {},
   "outputs": [],
   "source": [
    "import requests\n",
    "from zipfile import ZipFile\n",
    "from io import BytesIO, StringIO"
   ]
  },
  {
   "cell_type": "code",
   "execution_count": 2,
   "metadata": {},
   "outputs": [],
   "source": [
    "def download_and_extract(url, path):\n",
    "    request = requests.get(url)\n",
    "    with ZipFile(BytesIO(request.content), \"r\") as file:\n",
    "         file.extractall(path)\n",
    "\n",
    "urls = [\n",
    "    \"https://chitanka.info/book/25-andersenovi-prikazki.txt.zip\",\n",
    "    \"https://chitanka.info/book/3103-601-izpitani-gotvarski-retsepti.txt.zip\",\n",
    "    \"https://chitanka.info/book/6393-bogat-tatko-beden-tatko.txt.zip\",\n",
    "    \"https://chitanka.info/book/524-az-i-moreto.txt.zip\",\n",
    "    \"https://chitanka.info/book/6548-baba-djado-i-vnuche.txt.zip\",\n",
    "    \"https://chitanka.info/book/6938-12-printsipa-na-proizvoditelnostta.txt.zip\"\n",
    "    \n",
    "]\n",
    "            \n",
    "for url in urls:\n",
    "    download_and_extract(url,\"./data/\")"
   ]
  },
  {
   "cell_type": "code",
   "execution_count": 3,
   "metadata": {},
   "outputs": [],
   "source": [
    "max_line_len = 50"
   ]
  },
  {
   "cell_type": "code",
   "execution_count": 4,
   "metadata": {},
   "outputs": [],
   "source": [
    "files = [\n",
    "    \"data/Hans_Kristian_Andersen_-_Andersenovi_prikazki_-25-b.txt\",\n",
    "    \"data/Penka_Cholcheva_-_601_izpitani_gotvarski_retsepti_-3103-b.txt\",\n",
    "    \"data/Robyrt_Kijosaki_-_Bogat_tatko_beden_tatko_-_Na_kakvo_bogatite_uchat_detsata_si_za_parite_a_bednite_i_srednata_klasa_-_ne-6393-b.txt\",\n",
    "    \"data/Petja_Dubarova_-_Az_i_moreto_-524-b.txt\",\n",
    "    \"data/Baba_djado_i_vnuche_-_Narodni_prikazki-6548-b.txt\",\n",
    "    \"data/Haringtyn_Emersyn_-_12_printsipa_na_proizvoditelnostta_-6938-b.txt\"\n",
    "]"
   ]
  },
  {
   "cell_type": "code",
   "execution_count": 5,
   "metadata": {},
   "outputs": [],
   "source": [
    "def read_corpus(files):\n",
    "    lines = []\n",
    "\n",
    "    for file in files:\n",
    "        with open(file, encoding=\"utf-8-sig\") as file_content:\n",
    "            for line in file_content:\n",
    "                line = line.strip()\n",
    "                if(len(line) > max_line_len):\n",
    "                    tokens = line.split(\" \")\n",
    "                    new_line = \"\"\n",
    "                    for token in tokens:\n",
    "                        if(len(new_line) + len(token) < max_line_len):\n",
    "                            new_line +=token + \" \"\n",
    "                        else:\n",
    "                            lines.append(new_line)\n",
    "                            new_line = \"\"\n",
    "                else:\n",
    "                    if len(line) > 3:\n",
    "                        lines.append(line)\n",
    "    return lines"
   ]
  },
  {
   "cell_type": "code",
   "execution_count": 6,
   "metadata": {},
   "outputs": [],
   "source": [
    "lines = read_corpus(files)"
   ]
  },
  {
   "cell_type": "code",
   "execution_count": 7,
   "metadata": {},
   "outputs": [
    {
     "data": {
      "text/plain": [
       "32262"
      ]
     },
     "execution_count": 7,
     "metadata": {},
     "output_type": "execute_result"
    }
   ],
   "source": [
    "len(lines)"
   ]
  },
  {
   "cell_type": "code",
   "execution_count": 8,
   "metadata": {},
   "outputs": [
    {
     "data": {
      "text/plain": [
       "['Партиздат, София, 1973',\n",
       " 'Редактор: Борис Въжаров',\n",
       " 'Коректор: Веселина Цветкова']"
      ]
     },
     "execution_count": 8,
     "metadata": {},
     "output_type": "execute_result"
    }
   ],
   "source": [
    "lines[-3:]"
   ]
  },
  {
   "cell_type": "code",
   "execution_count": 9,
   "metadata": {},
   "outputs": [],
   "source": [
    "input_text = [ line.replace(\" \", \"\") for line in lines]"
   ]
  },
  {
   "cell_type": "code",
   "execution_count": 10,
   "metadata": {},
   "outputs": [],
   "source": [
    "START_CHAR = \"\\t\"\n",
    "END_CHAR = \"\\n\""
   ]
  },
  {
   "cell_type": "code",
   "execution_count": 11,
   "metadata": {},
   "outputs": [],
   "source": [
    "target_text = [ START_CHAR + line + END_CHAR for line in lines]"
   ]
  },
  {
   "cell_type": "code",
   "execution_count": 12,
   "metadata": {},
   "outputs": [
    {
     "data": {
      "text/plain": [
       "['ХансКристианАндерсен', 'Андерсеновиприказки', 'Огнивото']"
      ]
     },
     "execution_count": 12,
     "metadata": {},
     "output_type": "execute_result"
    }
   ],
   "source": [
    "input_text[:3]"
   ]
  },
  {
   "cell_type": "code",
   "execution_count": 13,
   "metadata": {},
   "outputs": [],
   "source": [
    "input_ch = set()\n",
    "for line in input_text:\n",
    "    for c in line:\n",
    "        input_ch.add(c)"
   ]
  },
  {
   "cell_type": "code",
   "execution_count": 14,
   "metadata": {},
   "outputs": [
    {
     "data": {
      "text/plain": [
       "148"
      ]
     },
     "execution_count": 14,
     "metadata": {},
     "output_type": "execute_result"
    }
   ],
   "source": [
    "input_ch = list(sorted(input_ch))\n",
    "input_ch_len = len(input_ch)\n",
    "input_ch_len"
   ]
  },
  {
   "cell_type": "code",
   "execution_count": 15,
   "metadata": {},
   "outputs": [],
   "source": [
    "target_ch = set()\n",
    "for line in target_text:\n",
    "    for c in line:\n",
    "        target_ch.add(c)"
   ]
  },
  {
   "cell_type": "code",
   "execution_count": 16,
   "metadata": {},
   "outputs": [
    {
     "data": {
      "text/plain": [
       "151"
      ]
     },
     "execution_count": 16,
     "metadata": {},
     "output_type": "execute_result"
    }
   ],
   "source": [
    "target_ch_len = len(target_ch)\n",
    "target_ch_len"
   ]
  },
  {
   "cell_type": "code",
   "execution_count": 17,
   "metadata": {},
   "outputs": [],
   "source": [
    "input_ch_idx = dict([(char,i) for i, char in enumerate(input_ch)])\n",
    "target_ch_idx = dict([(char,i) for i, char in enumerate(target_ch)])"
   ]
  },
  {
   "cell_type": "code",
   "execution_count": 18,
   "metadata": {},
   "outputs": [
    {
     "name": "stdout",
     "output_type": "stream",
     "text": [
      "46\n",
      "52\n"
     ]
    }
   ],
   "source": [
    "max_input_len = max([len(line) for line in input_text])\n",
    "max_target_len = max([len(line) for line in target_text])\n",
    "\n",
    "print(max_input_len)\n",
    "print(max_target_len)"
   ]
  },
  {
   "cell_type": "code",
   "execution_count": 19,
   "metadata": {},
   "outputs": [],
   "source": [
    "import numpy as np"
   ]
  },
  {
   "cell_type": "code",
   "execution_count": 20,
   "metadata": {},
   "outputs": [],
   "source": [
    "encoder_input_data = np.zeros ( (len(input_text), max_input_len, input_ch_len ),dtype=\"float64\" )\n",
    "decoder_input_data = np.zeros ( (len(input_text), max_target_len, target_ch_len ),dtype=\"float64\" )\n",
    "decoder_target_data = np.zeros( (len(input_text), max_target_len, target_ch_len ),dtype=\"float64\" )"
   ]
  },
  {
   "cell_type": "code",
   "execution_count": 21,
   "metadata": {},
   "outputs": [
    {
     "data": {
      "text/plain": [
       "(32262, 46, 148)"
      ]
     },
     "execution_count": 21,
     "metadata": {},
     "output_type": "execute_result"
    }
   ],
   "source": [
    "encoder_input_data.shape"
   ]
  },
  {
   "cell_type": "code",
   "execution_count": 22,
   "metadata": {},
   "outputs": [
    {
     "data": {
      "text/plain": [
       "(32262, 52, 151)"
      ]
     },
     "execution_count": 22,
     "metadata": {},
     "output_type": "execute_result"
    }
   ],
   "source": [
    "decoder_input_data.shape"
   ]
  },
  {
   "cell_type": "code",
   "execution_count": 23,
   "metadata": {},
   "outputs": [
    {
     "data": {
      "text/plain": [
       "(32262, 52, 151)"
      ]
     },
     "execution_count": 23,
     "metadata": {},
     "output_type": "execute_result"
    }
   ],
   "source": [
    "decoder_target_data.shape"
   ]
  },
  {
   "cell_type": "code",
   "execution_count": 24,
   "metadata": {},
   "outputs": [],
   "source": [
    "for i, (input_name, target_name) in enumerate(zip(input_text, target_text)):\n",
    "    for t, char in enumerate(input_name):\n",
    "        encoder_input_data[i, t, input_ch_idx[char]] = 1.\n",
    "    for t, char in enumerate(target_name):\n",
    "        decoder_input_data[i, t, target_ch_idx[char]] = 1.\n",
    "        if t > 0:\n",
    "            decoder_target_data[i, t - 1, target_ch_idx[char]] = 1."
   ]
  },
  {
   "cell_type": "code",
   "execution_count": 25,
   "metadata": {},
   "outputs": [
    {
     "name": "stderr",
     "output_type": "stream",
     "text": [
      "Using TensorFlow backend.\n"
     ]
    }
   ],
   "source": [
    "import keras\n",
    "from keras.models import Model\n",
    "from keras.layers import Input,Dense,LSTM, Embedding, Dropout"
   ]
  },
  {
   "cell_type": "code",
   "execution_count": 26,
   "metadata": {},
   "outputs": [],
   "source": [
    "STATE_SPACE_DIM = 256"
   ]
  },
  {
   "cell_type": "code",
   "execution_count": 27,
   "metadata": {},
   "outputs": [],
   "source": [
    "encoder_inputs = Input(shape=(None, input_ch_len))\n",
    "encoder = LSTM(STATE_SPACE_DIM, return_state=True)\n",
    "encoder_outputs, state_h, state_c = encoder(encoder_inputs)\n",
    "encoder_states = [state_h, state_c]"
   ]
  },
  {
   "cell_type": "code",
   "execution_count": 28,
   "metadata": {},
   "outputs": [],
   "source": [
    "decoder_inputs = Input(shape=(None, target_ch_len))\n",
    "dropout = Dropout(0.2)(decoder_inputs)\n",
    "decoder_lstm = LSTM(STATE_SPACE_DIM, return_sequences=True, return_state=True)\n",
    "decoder_outputs, _, _ = decoder_lstm(dropout,\n",
    "                                     initial_state=encoder_states)\n",
    "decoder_dense = Dense(target_ch_len, activation='softmax')\n",
    "decoder_outputs = decoder_dense(decoder_outputs)"
   ]
  },
  {
   "cell_type": "code",
   "execution_count": 29,
   "metadata": {},
   "outputs": [],
   "source": [
    "model = Model([encoder_inputs, decoder_inputs], decoder_outputs)\n",
    "\n",
    "model.compile(optimizer='adam', loss='categorical_crossentropy')"
   ]
  },
  {
   "cell_type": "code",
   "execution_count": 30,
   "metadata": {},
   "outputs": [
    {
     "name": "stdout",
     "output_type": "stream",
     "text": [
      "__________________________________________________________________________________________________\n",
      "Layer (type)                    Output Shape         Param #     Connected to                     \n",
      "==================================================================================================\n",
      "input_2 (InputLayer)            (None, None, 151)    0                                            \n",
      "__________________________________________________________________________________________________\n",
      "input_1 (InputLayer)            (None, None, 148)    0                                            \n",
      "__________________________________________________________________________________________________\n",
      "dropout_1 (Dropout)             (None, None, 151)    0           input_2[0][0]                    \n",
      "__________________________________________________________________________________________________\n",
      "lstm_1 (LSTM)                   [(None, 256), (None, 414720      input_1[0][0]                    \n",
      "__________________________________________________________________________________________________\n",
      "lstm_2 (LSTM)                   [(None, None, 256),  417792      dropout_1[0][0]                  \n",
      "                                                                 lstm_1[0][1]                     \n",
      "                                                                 lstm_1[0][2]                     \n",
      "__________________________________________________________________________________________________\n",
      "dense_1 (Dense)                 (None, None, 151)    38807       lstm_2[0][0]                     \n",
      "==================================================================================================\n",
      "Total params: 871,319\n",
      "Trainable params: 871,319\n",
      "Non-trainable params: 0\n",
      "__________________________________________________________________________________________________\n"
     ]
    }
   ],
   "source": [
    "model.summary()"
   ]
  },
  {
   "cell_type": "code",
   "execution_count": 97,
   "metadata": {},
   "outputs": [
    {
     "name": "stdout",
     "output_type": "stream",
     "text": [
      "Train on 25809 samples, validate on 6453 samples\n",
      "Epoch 1/2\n",
      "25809/25809 [==============================] - 10s 400us/step - loss: 0.4359 - val_loss: 0.4646\n",
      "Epoch 2/2\n",
      "25809/25809 [==============================] - 10s 403us/step - loss: 0.4337 - val_loss: 0.4588\n"
     ]
    },
    {
     "data": {
      "text/plain": [
       "<keras.callbacks.History at 0x7f05b0c05d30>"
      ]
     },
     "execution_count": 97,
     "metadata": {},
     "output_type": "execute_result"
    }
   ],
   "source": [
    "model.fit([encoder_input_data, decoder_input_data], decoder_target_data,\n",
    "          batch_size=256,\n",
    "          epochs=2,\n",
    "          validation_split=0.2)"
   ]
  },
  {
   "cell_type": "code",
   "execution_count": 94,
   "metadata": {},
   "outputs": [
    {
     "name": "stderr",
     "output_type": "stream",
     "text": [
      "/usr/local/lib/python3.5/dist-packages/keras/engine/topology.py:2344: UserWarning: Layer lstm_2 was passed non-serializable keyword arguments: {'initial_state': [<tf.Tensor 'lstm_1/while/Exit_2:0' shape=(?, 256) dtype=float32>, <tf.Tensor 'lstm_1/while/Exit_3:0' shape=(?, 256) dtype=float32>]}. They will not be included in the serialized model (and thus will be missing at deserialization time).\n",
      "  str(node.arguments) + '. They will not be included '\n"
     ]
    }
   ],
   "source": [
    "model.save(\"char_based_rnn_baseline_new-years6_epochs.h5\")"
   ]
  },
  {
   "cell_type": "code",
   "execution_count": 44,
   "metadata": {},
   "outputs": [],
   "source": [
    "encoder_model = Model(encoder_inputs, encoder_states)\n",
    "\n",
    "decoder_state_input_h = Input(shape=(STATE_SPACE_DIM,))\n",
    "decoder_state_input_c = Input(shape=(STATE_SPACE_DIM,))\n",
    "decoder_states_inputs = [decoder_state_input_h, decoder_state_input_c]\n",
    "decoder_outputs, state_h, state_c = decoder_lstm(\n",
    "    decoder_inputs, initial_state=decoder_states_inputs)\n",
    "decoder_states = [state_h, state_c]\n",
    "decoder_outputs = decoder_dense(decoder_outputs)\n",
    "decoder_model = Model(\n",
    "    [decoder_inputs] + decoder_states_inputs,\n",
    "    [decoder_outputs] + decoder_states)\n"
   ]
  },
  {
   "cell_type": "code",
   "execution_count": 45,
   "metadata": {},
   "outputs": [],
   "source": [
    "reverse_input_ch_idx = dict(\n",
    "    (i, char) for char, i in input_ch_idx.items())\n",
    "reverse_target_ch_idx= dict(\n",
    "    (i, char) for char, i in target_ch_idx.items())"
   ]
  },
  {
   "cell_type": "code",
   "execution_count": 46,
   "metadata": {},
   "outputs": [],
   "source": [
    "def decode_sequence(input_seq):\n",
    "  \n",
    "    states_value = encoder_model.predict(input_seq)\n",
    "\n",
    "  \n",
    "    target_seq = np.zeros((1, 1, len(target_ch)))\n",
    "   \n",
    "    target_seq[0, 0, target_ch_idx['$']] = 1.\n",
    "\n",
    "    stop_condition = False\n",
    "    decoded_sentence = ''\n",
    "    while not stop_condition:\n",
    "        output_tokens, h, c = decoder_model.predict(\n",
    "            [target_seq] + states_value)\n",
    "\n",
    "        \n",
    "        sampled_token_index = np.argmax(output_tokens[0, -1, :])\n",
    "        sampled_char = reverse_target_ch_idx[sampled_token_index]\n",
    "        decoded_sentence += sampled_char\n",
    "\n",
    "        \n",
    "        if (sampled_char == END_CHAR or\n",
    "           len(decoded_sentence) > max_target_len):\n",
    "            stop_condition = True\n",
    "\n",
    "       \n",
    "        target_seq = np.zeros((1, 1, len(target_ch)))\n",
    "        target_seq[0, 0, sampled_token_index] = 1.\n",
    "\n",
    "        states_value = [h, c]\n",
    "\n",
    "    return decoded_sentence"
   ]
  },
  {
   "cell_type": "code",
   "execution_count": 47,
   "metadata": {},
   "outputs": [
    {
     "name": "stdout",
     "output_type": "stream",
     "text": [
      "-\n",
      "Input sentence: ХансКристианАндерсен\n",
      "Decoded sentence: Ха сарските. А на седени\n",
      "\n",
      "-\n",
      "Input sentence: Андерсеновиприказки\n",
      "Decoded sentence: А неднесеро и вкрика \n",
      "\n",
      "-\n",
      "Input sentence: Огнивото\n",
      "Decoded sentence: Етовиното \n",
      "\n",
      "-\n",
      "Input sentence: Изширокияпътвървешевойник:едно,две,едно,\n",
      "Decoded sentence: Из и кри тъпвят въвреше ния, оред, но нейне да от \n",
      "\n",
      "-\n",
      "Input sentence: Нагърбасиносешераница,анакръста—сабя,\n",
      "Decoded sentence: На бърка се и се недъчна! — ата царста съм, — \n",
      "\n",
      "-\n",
      "Input sentence: бешеходилнавойнаисегасевръщашеудомаси.\n",
      "Decoded sentence: беше холени хова ни се насувер щаш съм донути. \n",
      "\n",
      "-\n",
      "Input sentence: пътягосрещнаеднастарамагьосница.Тябеше\n",
      "Decoded sentence: пяк стрещн да не станаха малкото. Насилеше. Тя \n",
      "\n",
      "-\n",
      "Input sentence: —Добървечер,войниче!—казамагьосницата.—\n",
      "Decoded sentence: — Добър вече, вройниче! — каза магьосницата. — \n",
      "\n",
      "-\n",
      "Input sentence: хубавасабяикакваголямараницаимаш!Тиси\n",
      "Decoded sentence: хубава баския как го валяма на цариш имаше! — \n",
      "\n",
      "-\n",
      "Input sentence: —Благодаряти,старамагьоснице!—отвърна\n",
      "Decoded sentence: — Благодарят ти, така да монкоците! — отвърха \n",
      "\n",
      "-\n",
      "Input sentence: —Виждашлитоваголямодърво?—рече\n",
      "Decoded sentence: — Виждал шито голяма володо! — рече \n",
      "\n",
      "-\n",
      "Input sentence: ипосочиеднодърво,коеторастешенаблизо.—То\n",
      "Decoded sentence: и после седно дъвът, корто се настеш! — Мози да \n",
      "\n",
      "-\n",
      "Input sentence: съвсемкухоотвътре.Акосеизкачишнавърхаму,\n",
      "Decoded sentence: съв сешух совотъй. Всеко ни тази чуваш в разлаше, \n",
      "\n",
      "-\n",
      "Input sentence: видишеднадупка,покоятоможешдасеспуснеш\n",
      "Decoded sentence: ви идеше да пудка, косоло той деше да се пусни \n",
      "\n",
      "-\n",
      "Input sentence: досамитекорени.Азщетивържаедновъжеза\n",
      "Decoded sentence: до самите крони. Те ти за върне доже да въвзе \n",
      "\n",
      "-\n",
      "Input sentence: —Каквощеправявдървото?—попитавойникът.\n",
      "Decoded sentence: — Какво ще правях върто? — повоти пак — той не \n",
      "\n",
      "-\n",
      "Input sentence: —Щесивземешпари!—казамагьосницата.—\n",
      "Decoded sentence: — Ще си вземе да кри! — каза магьосницата. — \n",
      "\n",
      "-\n",
      "Input sentence: щомсеспуснешдокорените,щесенамеришведна\n",
      "Decoded sentence: що се съсеме на полечето, че ще се намереш в дани \n",
      "\n",
      "-\n",
      "Input sentence: стая;тамемногосветло,защотогорятповечеот\n",
      "Decoded sentence: стаята, ме го на стоя жево, кагото поврете стоят \n",
      "\n",
      "-\n",
      "Input sentence: лампи.Предсебесищевидиштриврати.Тище\n",
      "Decoded sentence: луби пред без се се издешия сираха. Те ти ти \n",
      "\n",
      "-\n",
      "Input sentence: дагиотвориш,защотоключоветесанадтях.\n",
      "Decoded sentence: да ги отвърши защо, която лечената страхно \n",
      "\n",
      "-\n",
      "Input sentence: влезешвпърватастая,щевидишнасредподаголям\n",
      "Decoded sentence: в е еде върха ставята, ще излежнаш с горда горем \n",
      "\n",
      "-\n",
      "Input sentence: върхукойтоседиеднокуче.Очитемусаголеми\n",
      "Decoded sentence: върху който един с монучи. Вече като слугаме и \n",
      "\n",
      "-\n",
      "Input sentence: чаеничаши,нотинямадасеплашишоттова.Аз\n",
      "Decoded sentence: че начиш ни, ноята на ми да слешата от отиза, \n",
      "\n",
      "-\n",
      "Input sentence: тидаммоятасиняпрестилканаквадратчета,зада\n",
      "Decoded sentence: ти дама стягат и срелик станала на разтървате, да \n",
      "\n",
      "-\n",
      "Input sentence: постелешнапода,послещеграбнешкучето,щего\n",
      "Decoded sentence: по стлеше да пода, посте гледай мешките, кой ще \n",
      "\n",
      "-\n",
      "Input sentence: върхупрестилката,щеотворишсандъкаище\n",
      "Decoded sentence: върху преслитата, той не сволаше на същи с \n",
      "\n",
      "-\n",
      "Input sentence: колкотопариискаш.Тамсамеднитепари.Ако\n",
      "Decoded sentence: колкото пари и кашата, да се изделите. Как и \n",
      "\n",
      "-\n",
      "Input sentence: чистосребро,щеотидешвъввторатастая;там\n",
      "Decoded sentence: чи сторсе бой, те може сварът на товата тя би, \n",
      "\n",
      "-\n",
      "Input sentence: сандъкаседи,другокучесочиколкотоводенични\n",
      "Decoded sentence: са да съдеше. С грудки очучко колко отновението. \n",
      "\n",
      "-\n",
      "Input sentence: типакнесеплаши,турнигосамовърху\n",
      "Decoded sentence: ти касел се пали, че я наголо съща върху \n",
      "\n",
      "-\n",
      "Input sentence: миисивземипари.Аколипъкпожелаешзлато—и\n",
      "Decoded sentence: ми исвие за пири, Как ли полъчел да била тий — \n",
      "\n",
      "-\n",
      "Input sentence: щеимаш,колкотоможешданосиш,стигасамода\n",
      "Decoded sentence: ще мишал, колкото межда да си, ниста мага сащо \n",
      "\n",
      "-\n",
      "Input sentence: втретатастая.Наистинакучето,коетостоивърху\n",
      "Decoded sentence: вретата стата. Ти ни и тека, че токото тъвствиче. \n",
      "\n",
      "-\n",
      "Input sentence: съсзлатото,имаочи,големиколкотокръгликули.\n",
      "Decoded sentence: с събатота, и оти, може и колкото кулкото фурмили \n",
      "\n",
      "-\n",
      "Input sentence: естрашнокуче!Нотииотнегонямадасе\n",
      "Decoded sentence: е страшко чуди. Мейо и ниго няма да се на \n",
      "\n",
      "-\n",
      "Input sentence: Турнигонапрестилкатами,тонещетинаправи\n",
      "Decoded sentence: Трягнина по треликата мите, но те на тези прави \n",
      "\n",
      "-\n",
      "Input sentence: —Тованеелошо!—речевойникът.—Нокаквоще\n",
      "Decoded sentence: — Това не е ло! — рече от вичейко. — Какво се не \n",
      "\n",
      "-\n",
      "Input sentence: датидамаз,старамагьоснице?Разбирасе,ти\n",
      "Decoded sentence: да изама на бъзката — доманците. Разбираше ти \n",
      "\n",
      "-\n",
      "Input sentence: —Не—казамагьосницата,—неискамнитопетак.\n",
      "Decoded sentence: — Ни — каза магьосницата, и ни си на стоникате! \n",
      "\n",
      "-\n",
      "Input sentence: трябвадамидонесешсамостаротоогниво,което\n",
      "Decoded sentence: трябваме да но се деста с мосто от горно, което \n",
      "\n",
      "-\n",
      "Input sentence: бабазабрави,когатобешезапоследенпъттам\n",
      "Decoded sentence: ба баба разки, от обакаше добре си след тъват \n",
      "\n",
      "-\n",
      "Input sentence: —Добре!Вържимесвъжето!—казавойникът.\n",
      "Decoded sentence: — Добре, бръжим в съдете! — каза войните — \n",
      "\n",
      "-\n",
      "Input sentence: —Сега!—извикамагьосницата.—Етотиимоята\n",
      "Decoded sentence: — Сега! — извика магьоснца. — Битото тигната \n",
      "\n",
      "-\n",
      "Input sentence: престилканаквадратчета.Тогававойникътсе\n",
      "Decoded sentence: престлкала на върха тента. Тогава но тук всичко \n",
      "\n",
      "-\n",
      "Input sentence: надървото,спуснасевдупкатаисенамеридолу,\n",
      "Decoded sentence: на дървото суча се с да слага сите на мирден си до \n",
      "\n",
      "-\n",
      "Input sentence: голяматастая,къдетогоряха,кактобешеказала\n",
      "Decoded sentence: голямата така, се отдоря, койката, каето плабаше \n",
      "\n",
      "-\n",
      "Input sentence: Тойотворипърватаврата.Тамседешекучетосочи\n",
      "Decoded sentence: Той отвърни правът таза. Там шереше сънето чукто \n",
      "\n",
      "-\n",
      "Input sentence: —Здравей,приятелю!—казавойникът,сложи\n",
      "Decoded sentence: — Здравей, прякрил! — каза голя, кочто си хубе \n",
      "\n",
      "-\n",
      "Input sentence: върхупрестилкатанамагьосницатаинатъпка\n",
      "Decoded sentence: върху престилката на магьосницата и така па \n",
      "\n",
      "-\n",
      "Input sentence: сисмеднипари.Следтоватойзатворисандъка,\n",
      "Decoded sentence: си смед напири. Слъдито това тази сърно какво. \n",
      "\n",
      "-\n",
      "Input sentence: кучетопакнастаротомумястоивлезевъв\n",
      "Decoded sentence: кече коката насторат мом се я сверва във \n",
      "\n",
      "-\n",
      "Input sentence: стая.Ах!Тукнасандъкаседешекучето,което\n",
      "Decoded sentence: стая. Ах! Тук на надъка се удеше кънчето, който \n",
      "\n",
      "-\n",
      "Input sentence: —Нямазащотакадасеблещишсрещумен!—рече\n",
      "Decoded sentence: — Няща защота а малко де се умеше — рекене — вече \n",
      "\n",
      "-\n",
      "Input sentence: —Щетезаболяточите.Итойсложикучетовърху\n",
      "Decoded sentence: — Ще те базо тял тичето. — Сто вилко чуветър да \n",
      "\n",
      "-\n",
      "Input sentence: намагьосницата.Нокогатовидясребърнитепарив\n",
      "Decoded sentence: на магьосницата. Но когато ве реждат при резвите \n",
      "\n",
      "-\n",
      "Input sentence: изхвърливсичкимеднипариинапълниджобоветеи\n",
      "Decoded sentence: и захървит и счишим да прили и напължено от първе \n",
      "\n",
      "-\n",
      "Input sentence: сисамосъссребро.Сетнеотидевтретатастая.\n",
      "Decoded sentence: си масъс се брорет. Стедноте страт те татата с \n",
      "\n",
      "-\n",
      "Input sentence: тукнаистинабешестрашно!Очитенакучето,което\n",
      "Decoded sentence: тук нистина се беша тънне. Накичко, че той сето не \n",
      "\n",
      "-\n",
      "Input sentence: вътре,бяхаголемиколкотокулиисевъртяхав\n",
      "Decoded sentence: вътрет, брах голимеколко колките с връха търт \n",
      "\n",
      "-\n",
      "Input sentence: —Добървечер!—казавойникътиотдадечест,\n",
      "Decoded sentence: — Добър вече! — каза в той — никото да се търчет \n",
      "\n",
      "-\n",
      "Input sentence: никогапрезживотасинебешевиждалтаковакуче.\n",
      "Decoded sentence: никога през плавите от имеше да лук така ворите \n",
      "\n",
      "-\n",
      "Input sentence: постоямалко,тойграбнакучето,сложиговърху\n",
      "Decoded sentence: постоя малко, който раша меско, колео прувал с \n",
      "\n",
      "-\n",
      "Input sentence: иотворисандъка.Господи,колкомногозлато\n",
      "Decoded sentence: и отвори са да кадо, по-леколко, когато го изду \n",
      "\n",
      "-\n",
      "Input sentence: втоясандък!Стияпаривойникътможешедакупи\n",
      "Decoded sentence: в тон съща луб, крити прови, което муше пред се \n",
      "\n",
      "-\n",
      "Input sentence: столиченград,всичкизахарнипрасенцаот\n",
      "Decoded sentence: стори и недножа вички и разхари на сецато на \n",
      "\n",
      "-\n",
      "Input sentence: всичкиоловнивойници,камшициидървеникончета\n",
      "Decoded sentence: всички оловни войници, мишки и върни нечертоват \n",
      "\n",
      "-\n",
      "Input sentence: света.Да,туйсеказвашебогатство!Ивойникът\n",
      "Decoded sentence: стува, дайтъч, че заща бяма от от войник — товите \n",
      "\n"
     ]
    },
    {
     "name": "stdout",
     "output_type": "stream",
     "text": [
      "-\n",
      "Input sentence: всичкисребърнипариотджобоветеираницатасии\n",
      "Decoded sentence: всички се ръзрили да от дожето в тритерите и нари \n",
      "\n",
      "-\n",
      "Input sentence: тяхсивзезлатни.Тойнатъпкасжълтицинесамо\n",
      "Decoded sentence: тя кризве за инт. Тато та пълък си нестиците да \n",
      "\n",
      "-\n",
      "Input sentence: ираницата,ноифуражкатаичизмитеси,тъйче\n",
      "Decoded sentence: и царината, но фирула и тази чимите и течката се \n",
      "\n",
      "-\n",
      "Input sentence: можешедаседвижи.Сегатойнаистинаимашемного\n",
      "Decoded sentence: можеше да се дижи жих. Но така си нимаше на могат \n",
      "\n",
      "-\n",
      "Input sentence: Сложипаккучетовърхусандъка,затвориврататаи\n",
      "Decoded sentence: Слодика чукът те върху на са, тава разтивита вора \n",
      "\n",
      "-\n",
      "Input sentence: —Дърпайнагоре,старамагьоснице!\n",
      "Decoded sentence: — Дърба най-настрът мага да колице.\n",
      "\n",
      "-\n",
      "Input sentence: —Взелиогнивото?—попитамагьосницата.\n",
      "Decoded sentence: — Взе плигови? — отопита била на отина. — \n",
      "\n",
      "-\n",
      "Input sentence: —Подяволите!—извикавойникът.—Негосъвсем\n",
      "Decoded sentence: — Подволяте и! — извика войник. — От седумо се я \n",
      "\n",
      "-\n",
      "Input sentence: —Итойсевърна,тавзеогнивото.Тогава\n",
      "Decoded sentence: — И той се върна, та виден от отово. За ва \n",
      "\n",
      "-\n",
      "Input sentence: гоизтеглигореивойникътсенамериотновона\n",
      "Decoded sentence: го изтиглего гривенито къчеме на отноро на се \n",
      "\n",
      "-\n",
      "Input sentence: Джобовете,раницата,чизмитеифуражкатамубяха\n",
      "Decoded sentence: Добъдете търна, и тачи, че имария ила бърката съм \n",
      "\n",
      "-\n",
      "Input sentence: —Каквощеправишстоваогниво?—попита\n",
      "Decoded sentence: — Какво ще прави с тава от ого? — повита \n",
      "\n",
      "-\n",
      "Input sentence: —Неетвояработа!—отвърнамагьосницата.—Ти\n",
      "Decoded sentence: — Не те вой тарбота, — отвърна магьосницата. — Те \n",
      "\n",
      "-\n",
      "Input sentence: —Ягледай!—речевойникът.—Кажизащотие\n",
      "Decoded sentence: — Сега Гей! — рече в той, кикара. — Довете си \n",
      "\n",
      "-\n",
      "Input sentence: —Нямадакажа!—извикамагьосницата.\n",
      "Decoded sentence: — Не мага дайки, извикам сагьосницата.\n",
      "\n",
      "-\n",
      "Input sentence: Тогававойникътизвадисабятаиотсечеглаватай.\n",
      "Decoded sentence: Тогава войник, в пазите да тоята си тези да отъна \n",
      "\n",
      "-\n",
      "Input sentence: вързавсичкитесипаривпрестилкатана\n",
      "Decoded sentence: в заръви сичките и приправелита ката на \n",
      "\n",
      "-\n",
      "Input sentence: метнавързопанагърбаси,пъхнаогнивотовджоба\n",
      "Decoded sentence: ме тава врез по ата пърка, пладовато и доволяща \n",
      "\n",
      "-\n",
      "Input sentence: Аградътбешевеликолепен.Войникътотидев\n",
      "Decoded sentence: А гърдат беше леквило еле. Ето и който се върне \n",
      "\n",
      "-\n",
      "Input sentence: странноприемница,поисканай-хубаватастаяи\n",
      "Decoded sentence: страно гредици майкоци и какаха на тоя какват се \n",
      "\n",
      "-\n",
      "Input sentence: ястия,защотосегавечебешебогат.Слугата,\n",
      "Decoded sentence: я тя изкащо, що се вземеше беше Когата. Слугат \n",
      "\n",
      "-\n",
      "Input sentence: изчистичизмитему,навярнопомисли,четеса\n",
      "Decoded sentence: изчисти и се им, че няма на ороло имичете, със \n",
      "\n",
      "-\n",
      "Input sentence: вехтизатакъвбогатчовек.Нонадругияден\n",
      "Decoded sentence: вейната и хакъв богатечно. Тогави други не \n",
      "\n",
      "-\n",
      "Input sentence: сикупииновичизми,ипрекраснидрехи.Той\n",
      "Decoded sentence: си купи и вовичи, измирик предна фирей. — Дой \n",
      "\n",
      "-\n",
      "Input sentence: важенгосподинизатовахоратамупоказваха\n",
      "Decoded sentence: в нед о о подини за това хората упо ваша за па \n",
      "\n",
      "-\n",
      "Input sentence: забележителностинаграда.Разказахамуиза\n",
      "Decoded sentence: зб бележетилот на синара. Разхара за кума и \n",
      "\n",
      "-\n",
      "Input sentence: —Къдеможедаявидичовек?—попитавойникът.\n",
      "Decoded sentence: — Къде можеш в дави и очете? — попиката войните. \n",
      "\n",
      "-\n",
      "Input sentence: —Никъде—казахамувсички.—Тяживеевголемия\n",
      "Decoded sentence: — Ни къде — захавам с мичиция. — Това в ели млове \n",
      "\n",
      "-\n",
      "Input sentence: замък,заобиколеномножествокулиистени.При\n",
      "Decoded sentence: за към, за обило не молено в сукто и и финарите. \n",
      "\n",
      "-\n",
      "Input sentence: отивасамоцарят,защотойепредсказано,чеще\n",
      "Decoded sentence: от вача са отлява, тай той де по-сарка, ще не той \n",
      "\n",
      "-\n",
      "Input sentence: „Искамиседаявидя“—помислисивойникът.Но\n",
      "Decoded sentence: — И кам се надивят да и ли — посичи от ний. — от \n",
      "\n",
      "-\n",
      "Input sentence: искапозволениезатова,разбирасе,неможешеда\n",
      "Decoded sentence: и сакопозводините на зарък, и размежемето да беше \n",
      "\n"
     ]
    }
   ],
   "source": [
    "for seq_index in range(100):\n",
    "    input_seq = encoder_input_data[seq_index: seq_index + 1]\n",
    "    decoded_sentence = decode_sequence(input_seq)\n",
    "    print('-')\n",
    "    print('Input sentence:', input_text[seq_index])\n",
    "    print('Decoded sentence:', decoded_sentence)"
   ]
  },
  {
   "cell_type": "code",
   "execution_count": 98,
   "metadata": {},
   "outputs": [
    {
     "data": {
      "text/plain": [
       "'да смежвини изравив\\n'"
      ]
     },
     "execution_count": 98,
     "metadata": {},
     "output_type": "execute_result"
    }
   ],
   "source": [
    "input_name = \"дасмеживииздрави\"\n",
    "encoded = np.zeros (( 1 , max_input_len, input_ch_len ),dtype=\"float64\" )\n",
    "for t, char in enumerate(input_name):\n",
    "    encoded[0, t, input_ch_idx[char]] = 1.\n",
    "decoded_sentence = decode_sequence(encoded[0:1])\n",
    "decoded_sentence"
   ]
  },
  {
   "cell_type": "code",
   "execution_count": null,
   "metadata": {},
   "outputs": [],
   "source": []
  }
 ],
 "metadata": {
  "kernelspec": {
   "display_name": "Python 3",
   "language": "python",
   "name": "python3"
  },
  "language_info": {
   "codemirror_mode": {
    "name": "ipython",
    "version": 3
   },
   "file_extension": ".py",
   "mimetype": "text/x-python",
   "name": "python",
   "nbconvert_exporter": "python",
   "pygments_lexer": "ipython3",
   "version": "3.5.2"
  }
 },
 "nbformat": 4,
 "nbformat_minor": 2
}

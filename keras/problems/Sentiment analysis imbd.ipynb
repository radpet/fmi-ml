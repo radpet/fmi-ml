{
 "cells": [
  {
   "cell_type": "code",
   "execution_count": 1,
   "metadata": {},
   "outputs": [
    {
     "name": "stderr",
     "output_type": "stream",
     "text": [
      "Using TensorFlow backend.\n"
     ]
    }
   ],
   "source": [
    "from keras.datasets import imdb\n",
    "\n",
    "NUM_WORDS = 10000\n",
    "\n",
    "(dev_X, dev_y) , (test_X, test_y) = imdb.load_data(num_words=NUM_WORDS,\n",
    "                                                      skip_top=0,\n",
    "                                                      maxlen=None)"
   ]
  },
  {
   "cell_type": "markdown",
   "metadata": {},
   "source": [
    "The point of all this thing is to try and beat their score\n",
    "http://nbviewer.jupyter.org/github/fchollet/deep-learning-with-python-notebooks/blob/master/3.5-classifying-movie-reviews.ipynb"
   ]
  },
  {
   "cell_type": "code",
   "execution_count": 2,
   "metadata": {},
   "outputs": [
    {
     "data": {
      "text/plain": [
       "(25000,)"
      ]
     },
     "execution_count": 2,
     "metadata": {},
     "output_type": "execute_result"
    }
   ],
   "source": [
    "dev_X.shape"
   ]
  },
  {
   "cell_type": "code",
   "execution_count": 3,
   "metadata": {},
   "outputs": [
    {
     "data": {
      "text/plain": [
       "(25000,)"
      ]
     },
     "execution_count": 3,
     "metadata": {},
     "output_type": "execute_result"
    }
   ],
   "source": [
    "dev_y.shape"
   ]
  },
  {
   "cell_type": "code",
   "execution_count": 4,
   "metadata": {},
   "outputs": [],
   "source": [
    "import numpy as np"
   ]
  },
  {
   "cell_type": "code",
   "execution_count": 5,
   "metadata": {},
   "outputs": [],
   "source": [
    "from keras.layers import Dense, Dropout, Embedding, LSTM\n",
    "from keras.models import Sequential\n",
    "from keras.callbacks import TensorBoard"
   ]
  },
  {
   "cell_type": "markdown",
   "metadata": {},
   "source": [
    "First I will try sequental model with few dense layers without autoencoder"
   ]
  },
  {
   "cell_type": "code",
   "execution_count": 6,
   "metadata": {},
   "outputs": [],
   "source": [
    "def vectorize_y(Y):\n",
    "    return np.asarray(Y).astype('float32')"
   ]
  },
  {
   "cell_type": "code",
   "execution_count": 7,
   "metadata": {},
   "outputs": [
    {
     "data": {
      "text/plain": [
       "array([ 1.,  0.], dtype=float32)"
      ]
     },
     "execution_count": 7,
     "metadata": {},
     "output_type": "execute_result"
    }
   ],
   "source": [
    "y = vectorize_y(dev_y)\n",
    "y[:2]"
   ]
  },
  {
   "cell_type": "code",
   "execution_count": 8,
   "metadata": {},
   "outputs": [],
   "source": [
    "def one_hot_encode(X):\n",
    "    seq = np.zeros((len(X),NUM_WORDS))\n",
    "    for (i,val) in enumerate(X):\n",
    "        seq[i][val] = 1\n",
    "    return seq"
   ]
  },
  {
   "cell_type": "code",
   "execution_count": 9,
   "metadata": {},
   "outputs": [
    {
     "data": {
      "text/plain": [
       "array([[ 0.,  1.,  1., ...,  0.,  0.,  0.],\n",
       "       [ 0.,  1.,  1., ...,  0.,  0.,  0.]])"
      ]
     },
     "execution_count": 9,
     "metadata": {},
     "output_type": "execute_result"
    }
   ],
   "source": [
    "X = one_hot_encode(dev_X)\n",
    "X[:2]"
   ]
  },
  {
   "cell_type": "code",
   "execution_count": 120,
   "metadata": {},
   "outputs": [],
   "source": [
    "model = Sequential([\n",
    "    Dense(16, input_shape=(NUM_WORDS,), activation=\"tanh\"),\n",
    "    Dropout(0.5),\n",
    "    Dense(64, activation=\"tanh\"),\n",
    "    Dense(1, activation=\"sigmoid\")\n",
    "])"
   ]
  },
  {
   "cell_type": "code",
   "execution_count": 121,
   "metadata": {},
   "outputs": [],
   "source": [
    "model.compile(optimizer=\"adam\", loss=\"binary_crossentropy\", metrics=[\"accuracy\"])"
   ]
  },
  {
   "cell_type": "code",
   "execution_count": 122,
   "metadata": {},
   "outputs": [
    {
     "name": "stdout",
     "output_type": "stream",
     "text": [
      "_________________________________________________________________\n",
      "Layer (type)                 Output Shape              Param #   \n",
      "=================================================================\n",
      "dense_70 (Dense)             (None, 16)                160016    \n",
      "_________________________________________________________________\n",
      "dropout_22 (Dropout)         (None, 16)                0         \n",
      "_________________________________________________________________\n",
      "dense_71 (Dense)             (None, 64)                1088      \n",
      "_________________________________________________________________\n",
      "dense_72 (Dense)             (None, 1)                 65        \n",
      "=================================================================\n",
      "Total params: 161,169\n",
      "Trainable params: 161,169\n",
      "Non-trainable params: 0\n",
      "_________________________________________________________________\n"
     ]
    }
   ],
   "source": [
    "model.summary()"
   ]
  },
  {
   "cell_type": "code",
   "execution_count": 123,
   "metadata": {},
   "outputs": [
    {
     "name": "stdout",
     "output_type": "stream",
     "text": [
      "Train on 20000 samples, validate on 5000 samples\n",
      "Epoch 1/3\n",
      "20000/20000 [==============================] - 1s 45us/step - loss: 0.5426 - acc: 0.7641 - val_loss: 0.3646 - val_acc: 0.8626\n",
      "Epoch 2/3\n",
      "20000/20000 [==============================] - 1s 42us/step - loss: 0.2909 - acc: 0.8914 - val_loss: 0.2804 - val_acc: 0.8886\n",
      "Epoch 3/3\n",
      "20000/20000 [==============================] - 1s 42us/step - loss: 0.2105 - acc: 0.9242 - val_loss: 0.2724 - val_acc: 0.8942\n"
     ]
    },
    {
     "data": {
      "text/plain": [
       "<keras.callbacks.History at 0x7f0a603cec18>"
      ]
     },
     "execution_count": 123,
     "metadata": {},
     "output_type": "execute_result"
    }
   ],
   "source": [
    "model.fit(X, y, epochs=3, validation_split=0.2, batch_size=712, callbacks=[TensorBoard(log_dir=\"./logs\")])"
   ]
  },
  {
   "cell_type": "code",
   "execution_count": 109,
   "metadata": {},
   "outputs": [],
   "source": [
    "X_test = one_hot_encode(test_X)\n",
    "y_test = vectorize_y(test_y)"
   ]
  },
  {
   "cell_type": "code",
   "execution_count": 124,
   "metadata": {},
   "outputs": [
    {
     "name": "stdout",
     "output_type": "stream",
     "text": [
      "25000/25000 [==============================] - 2s 62us/step\n"
     ]
    },
    {
     "data": {
      "text/plain": [
       "[0.2873726367521286, 0.88404000000000005]"
      ]
     },
     "execution_count": 124,
     "metadata": {},
     "output_type": "execute_result"
    }
   ],
   "source": [
    "results = model.evaluate(X_test, y_test)\n",
    "results"
   ]
  },
  {
   "cell_type": "markdown",
   "metadata": {},
   "source": [
    "Yup it seems I have won this one [0.2873726367521286, 0.88404000000000005] :)"
   ]
  },
  {
   "cell_type": "markdown",
   "metadata": {},
   "source": [
    "And now last but not least, lets check how simple long short term memory network handles the classification"
   ]
  },
  {
   "cell_type": "code",
   "execution_count": 9,
   "metadata": {},
   "outputs": [],
   "source": [
    "def pad_seq(X):\n",
    "    max_len_seq = max([len(x) for x in X])\n",
    "    seq = []\n",
    "    for x in X:\n",
    "        x_clone = np.append(x, [np.zeros((max_len_seq - len(x)), dtype=\"int32\") ])\n",
    "        seq.append(x_clone)\n",
    "    return (max_len_seq, np.array(seq))"
   ]
  },
  {
   "cell_type": "code",
   "execution_count": 10,
   "metadata": {},
   "outputs": [
    {
     "data": {
      "text/plain": [
       "array([[   1,   14,   22, ...,    0,    0,    0],\n",
       "       [   1,  194, 1153, ...,    0,    0,    0]])"
      ]
     },
     "execution_count": 10,
     "metadata": {},
     "output_type": "execute_result"
    }
   ],
   "source": [
    "max_len_seq, X = pad_seq(dev_X)\n",
    "X[:2]"
   ]
  },
  {
   "cell_type": "code",
   "execution_count": 11,
   "metadata": {},
   "outputs": [],
   "source": [
    "model = Sequential([\n",
    "    Embedding(max_len_seq, 128),\n",
    "    LSTM(128),\n",
    "    Dense(1, activation=\"sigmoid\")\n",
    "])"
   ]
  },
  {
   "cell_type": "code",
   "execution_count": 12,
   "metadata": {},
   "outputs": [],
   "source": [
    "model.compile(loss=\"binary_crossentropy\", optimizer=\"adam\", metrics=[\"accuracy\"])"
   ]
  },
  {
   "cell_type": "code",
   "execution_count": 13,
   "metadata": {},
   "outputs": [
    {
     "name": "stdout",
     "output_type": "stream",
     "text": [
      "_________________________________________________________________\n",
      "Layer (type)                 Output Shape              Param #   \n",
      "=================================================================\n",
      "embedding_1 (Embedding)      (None, None, 128)         319232    \n",
      "_________________________________________________________________\n",
      "lstm_1 (LSTM)                (None, 128)               131584    \n",
      "_________________________________________________________________\n",
      "dense_1 (Dense)              (None, 1)                 129       \n",
      "=================================================================\n",
      "Total params: 450,945\n",
      "Trainable params: 450,945\n",
      "Non-trainable params: 0\n",
      "_________________________________________________________________\n"
     ]
    }
   ],
   "source": [
    "model.summary()"
   ]
  },
  {
   "cell_type": "code",
   "execution_count": 14,
   "metadata": {},
   "outputs": [
    {
     "name": "stdout",
     "output_type": "stream",
     "text": [
      "Train on 20000 samples, validate on 5000 samples\n",
      "Epoch 1/12\n",
      "20000/20000 [==============================] - 193s 10ms/step - loss: 0.6934 - acc: 0.5014 - val_loss: 0.6931 - val_acc: 0.5062\n",
      "Epoch 2/12\n",
      "20000/20000 [==============================] - 190s 10ms/step - loss: 0.6933 - acc: 0.4955 - val_loss: 0.6933 - val_acc: 0.4938\n",
      "Epoch 3/12\n",
      "20000/20000 [==============================] - 185s 9ms/step - loss: 0.6933 - acc: 0.4971 - val_loss: 0.6932 - val_acc: 0.4938\n",
      "Epoch 4/12\n",
      "20000/20000 [==============================] - 184s 9ms/step - loss: 0.6932 - acc: 0.4971 - val_loss: 0.6934 - val_acc: 0.4938\n",
      "Epoch 5/12\n",
      "20000/20000 [==============================] - 184s 9ms/step - loss: 0.6932 - acc: 0.5010 - val_loss: 0.6935 - val_acc: 0.4938\n",
      "Epoch 6/12\n",
      "20000/20000 [==============================] - 184s 9ms/step - loss: 0.6932 - acc: 0.4995 - val_loss: 0.6936 - val_acc: 0.4938\n",
      "Epoch 7/12\n",
      "20000/20000 [==============================] - 184s 9ms/step - loss: 0.6932 - acc: 0.4990 - val_loss: 0.6932 - val_acc: 0.4938\n",
      "Epoch 8/12\n",
      "20000/20000 [==============================] - 184s 9ms/step - loss: 0.6932 - acc: 0.4985 - val_loss: 0.6932 - val_acc: 0.4938\n",
      "Epoch 9/12\n",
      "20000/20000 [==============================] - 184s 9ms/step - loss: 0.6932 - acc: 0.4957 - val_loss: 0.6932 - val_acc: 0.4938\n",
      "Epoch 10/12\n",
      "20000/20000 [==============================] - 184s 9ms/step - loss: 0.6932 - acc: 0.4951 - val_loss: 0.6932 - val_acc: 0.4938\n",
      "Epoch 11/12\n",
      "20000/20000 [==============================] - 184s 9ms/step - loss: 0.6932 - acc: 0.5016 - val_loss: 0.6933 - val_acc: 0.4938\n",
      "Epoch 12/12\n",
      "20000/20000 [==============================] - 184s 9ms/step - loss: 0.6932 - acc: 0.4942 - val_loss: 0.6933 - val_acc: 0.4938\n"
     ]
    },
    {
     "data": {
      "text/plain": [
       "<keras.callbacks.History at 0x7fe3ea743588>"
      ]
     },
     "execution_count": 14,
     "metadata": {},
     "output_type": "execute_result"
    }
   ],
   "source": [
    "model.fit(X, y, epochs=12, validation_split=0.2, batch_size=256)"
   ]
  },
  {
   "cell_type": "code",
   "execution_count": 17,
   "metadata": {},
   "outputs": [],
   "source": [
    "from keras.preprocessing.sequence import pad_sequences\n",
    "maxlen = 80\n",
    "X = pad_sequences(dev_X, maxlen=maxlen)"
   ]
  },
  {
   "cell_type": "code",
   "execution_count": 23,
   "metadata": {},
   "outputs": [],
   "source": [
    "model = Sequential([\n",
    "    Embedding(NUM_WORDS, 128),\n",
    "    LSTM(128, dropout=0.2, recurrent_dropout=0.2),\n",
    "    Dense(1, activation=\"sigmoid\")\n",
    "])"
   ]
  },
  {
   "cell_type": "code",
   "execution_count": 24,
   "metadata": {},
   "outputs": [],
   "source": [
    "model.compile(loss=\"binary_crossentropy\", optimizer=\"adam\", metrics=[\"accuracy\"])"
   ]
  },
  {
   "cell_type": "code",
   "execution_count": 25,
   "metadata": {},
   "outputs": [
    {
     "name": "stdout",
     "output_type": "stream",
     "text": [
      "_________________________________________________________________\n",
      "Layer (type)                 Output Shape              Param #   \n",
      "=================================================================\n",
      "embedding_3 (Embedding)      (None, None, 128)         1280000   \n",
      "_________________________________________________________________\n",
      "lstm_3 (LSTM)                (None, 128)               131584    \n",
      "_________________________________________________________________\n",
      "dense_3 (Dense)              (None, 1)                 129       \n",
      "=================================================================\n",
      "Total params: 1,411,713\n",
      "Trainable params: 1,411,713\n",
      "Non-trainable params: 0\n",
      "_________________________________________________________________\n"
     ]
    }
   ],
   "source": [
    "model.summary()"
   ]
  },
  {
   "cell_type": "code",
   "execution_count": null,
   "metadata": {},
   "outputs": [
    {
     "name": "stdout",
     "output_type": "stream",
     "text": [
      "Train on 20000 samples, validate on 5000 samples\n",
      "Epoch 1/64\n",
      "20000/20000 [==============================] - 50s 3ms/step - loss: 0.4731 - acc: 0.7755 - val_loss: 0.4152 - val_acc: 0.8090\n",
      "Epoch 2/64\n",
      "20000/20000 [==============================] - 50s 2ms/step - loss: 0.3334 - acc: 0.8596 - val_loss: 0.3850 - val_acc: 0.8284\n",
      "Epoch 3/64\n",
      "20000/20000 [==============================] - 50s 2ms/step - loss: 0.2536 - acc: 0.9002 - val_loss: 0.4171 - val_acc: 0.8340\n",
      "Epoch 4/64\n",
      "20000/20000 [==============================] - 50s 2ms/step - loss: 0.1968 - acc: 0.9257 - val_loss: 0.4622 - val_acc: 0.8274\n",
      "Epoch 5/64\n",
      "20000/20000 [==============================] - 50s 2ms/step - loss: 0.1550 - acc: 0.9417 - val_loss: 0.5350 - val_acc: 0.8170\n",
      "Epoch 6/64\n",
      "20000/20000 [==============================] - 50s 2ms/step - loss: 0.1284 - acc: 0.9521 - val_loss: 0.5556 - val_acc: 0.8184\n",
      "Epoch 7/64\n",
      "20000/20000 [==============================] - 50s 2ms/step - loss: 0.1004 - acc: 0.9638 - val_loss: 0.6361 - val_acc: 0.8198\n",
      "Epoch 8/64\n",
      "20000/20000 [==============================] - 50s 2ms/step - loss: 0.0694 - acc: 0.9767 - val_loss: 0.6435 - val_acc: 0.8004\n",
      "Epoch 9/64\n",
      "20000/20000 [==============================] - 50s 2ms/step - loss: 0.0554 - acc: 0.9813 - val_loss: 0.7577 - val_acc: 0.8064\n",
      "Epoch 10/64\n",
      "20000/20000 [==============================] - 50s 2ms/step - loss: 0.0548 - acc: 0.9815 - val_loss: 0.7409 - val_acc: 0.8132\n",
      "Epoch 11/64\n",
      "20000/20000 [==============================] - 50s 2ms/step - loss: 0.0475 - acc: 0.9841 - val_loss: 0.8288 - val_acc: 0.8138\n",
      "Epoch 12/64\n",
      "20000/20000 [==============================] - 50s 2ms/step - loss: 0.0324 - acc: 0.9897 - val_loss: 0.9749 - val_acc: 0.8076\n",
      "Epoch 13/64\n",
      "19008/20000 [===========================>..] - ETA: 2s - loss: 0.0295 - acc: 0.9898"
     ]
    }
   ],
   "source": [
    "model.fit(X, y, epochs=64, validation_split=0.2, batch_size=32)"
   ]
  },
  {
   "cell_type": "code",
   "execution_count": null,
   "metadata": {},
   "outputs": [],
   "source": []
  }
 ],
 "metadata": {
  "kernelspec": {
   "display_name": "Python 3",
   "language": "python",
   "name": "python3"
  },
  "language_info": {
   "codemirror_mode": {
    "name": "ipython",
    "version": 3
   },
   "file_extension": ".py",
   "mimetype": "text/x-python",
   "name": "python",
   "nbconvert_exporter": "python",
   "pygments_lexer": "ipython3",
   "version": "3.5.2"
  }
 },
 "nbformat": 4,
 "nbformat_minor": 2
}

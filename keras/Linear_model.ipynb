{
 "cells": [
  {
   "cell_type": "code",
   "execution_count": 1,
   "metadata": {},
   "outputs": [
    {
     "name": "stderr",
     "output_type": "stream",
     "text": [
      "Using TensorFlow backend.\n"
     ]
    }
   ],
   "source": [
    "import keras\n",
    "import numpy as np\n",
    "from keras.datasets import mnist"
   ]
  },
  {
   "cell_type": "code",
   "execution_count": 2,
   "metadata": {},
   "outputs": [
    {
     "name": "stdout",
     "output_type": "stream",
     "text": [
      "60000 train samples\n",
      "10000 test samples\n"
     ]
    },
    {
     "data": {
      "text/plain": [
       "(60000, 784)"
      ]
     },
     "execution_count": 2,
     "metadata": {},
     "output_type": "execute_result"
    }
   ],
   "source": [
    "img_size = 28\n",
    "img_flat = img_size **2\n",
    "num_classes = 10\n",
    "\n",
    "(x_train, y_train), (x_test, y_test) = mnist.load_data()\n",
    "\n",
    "print(x_train.shape[0], 'train samples')\n",
    "print(x_test.shape[0], 'test samples')\n",
    "\n",
    "x_train = x_train.reshape((-1,img_flat)) /255\n",
    "x_test = x_test.reshape((-1,img_flat))/ 255\n",
    "\n",
    "x_train.shape\n"
   ]
  },
  {
   "cell_type": "code",
   "execution_count": 3,
   "metadata": {},
   "outputs": [
    {
     "data": {
      "text/plain": [
       "(10000, 10)"
      ]
     },
     "execution_count": 3,
     "metadata": {},
     "output_type": "execute_result"
    }
   ],
   "source": [
    "from keras.utils import to_categorical\n",
    "\n",
    "y_train = to_categorical(y_train, num_classes)\n",
    "y_test = to_categorical(y_test, num_classes)\n",
    "\n",
    "\n",
    "y_test.shape"
   ]
  },
  {
   "cell_type": "code",
   "execution_count": 4,
   "metadata": {},
   "outputs": [],
   "source": [
    "from keras.models import Sequential\n",
    "from keras.layers import Dense, Activation\n",
    "\n",
    "\n",
    "model = Sequential([\n",
    "    Dense(units=img_flat, activation='tanh', input_shape=(img_flat,) ),\n",
    "    Dense(units=10),\n",
    "    Activation('softmax'),\n",
    "])"
   ]
  },
  {
   "cell_type": "code",
   "execution_count": null,
   "metadata": {},
   "outputs": [],
   "source": [
    "from keras.optimizers import SGD\n",
    "from keras.losses import categorical_crossentropy\n",
    "model.compile(loss=categorical_crossentropy,metrics=['accuracy'],\n",
    "              optimizer=SGD())"
   ]
  },
  {
   "cell_type": "code",
   "execution_count": null,
   "metadata": {},
   "outputs": [
    {
     "name": "stdout",
     "output_type": "stream",
     "text": [
      "Train on 60000 samples, validate on 10000 samples\n",
      "Epoch 1/100\n",
      "60000/60000 [==============================] - 3s 43us/step - loss: 0.8124 - acc: 0.8086 - val_loss: 0.4797 - val_acc: 0.8803\n",
      "Epoch 2/100\n",
      "60000/60000 [==============================] - 1s 24us/step - loss: 0.4468 - acc: 0.8815 - val_loss: 0.3878 - val_acc: 0.8972\n",
      "Epoch 3/100\n",
      "60000/60000 [==============================] - 1s 24us/step - loss: 0.3875 - acc: 0.8941 - val_loss: 0.3521 - val_acc: 0.9039\n",
      "Epoch 4/100\n",
      "60000/60000 [==============================] - 1s 24us/step - loss: 0.3588 - acc: 0.8995 - val_loss: 0.3317 - val_acc: 0.9082\n",
      "Epoch 5/100\n",
      "60000/60000 [==============================] - 1s 24us/step - loss: 0.3408 - acc: 0.9040 - val_loss: 0.3188 - val_acc: 0.9100\n",
      "Epoch 6/100\n",
      "60000/60000 [==============================] - 1s 24us/step - loss: 0.3282 - acc: 0.9074 - val_loss: 0.3082 - val_acc: 0.9144\n",
      "Epoch 7/100\n",
      "60000/60000 [==============================] - 2s 26us/step - loss: 0.3185 - acc: 0.9102 - val_loss: 0.3009 - val_acc: 0.9147\n",
      "Epoch 8/100\n",
      "60000/60000 [==============================] - 2s 26us/step - loss: 0.3108 - acc: 0.9119 - val_loss: 0.2956 - val_acc: 0.9173\n",
      "Epoch 9/100\n",
      "60000/60000 [==============================] - 1s 25us/step - loss: 0.3043 - acc: 0.9145 - val_loss: 0.2900 - val_acc: 0.9197\n",
      "Epoch 10/100\n",
      "60000/60000 [==============================] - 1s 24us/step - loss: 0.2987 - acc: 0.9158 - val_loss: 0.2851 - val_acc: 0.9203\n",
      "Epoch 11/100\n",
      "60000/60000 [==============================] - 1s 25us/step - loss: 0.2939 - acc: 0.9171 - val_loss: 0.2823 - val_acc: 0.9205\n",
      "Epoch 12/100\n",
      "60000/60000 [==============================] - 1s 24us/step - loss: 0.2894 - acc: 0.9182 - val_loss: 0.2786 - val_acc: 0.9227\n",
      "Epoch 13/100\n",
      "60000/60000 [==============================] - 1s 25us/step - loss: 0.2854 - acc: 0.9197 - val_loss: 0.2769 - val_acc: 0.9229\n",
      "Epoch 14/100\n",
      "60000/60000 [==============================] - 1s 25us/step - loss: 0.2818 - acc: 0.9203 - val_loss: 0.2743 - val_acc: 0.9233\n",
      "Epoch 15/100\n",
      "60000/60000 [==============================] - 1s 24us/step - loss: 0.2782 - acc: 0.9214 - val_loss: 0.2708 - val_acc: 0.9244\n",
      "Epoch 16/100\n",
      "60000/60000 [==============================] - 2s 25us/step - loss: 0.2750 - acc: 0.9223 - val_loss: 0.2682 - val_acc: 0.9257\n",
      "Epoch 17/100\n",
      "60000/60000 [==============================] - 2s 27us/step - loss: 0.2719 - acc: 0.9235 - val_loss: 0.2648 - val_acc: 0.9253\n",
      "Epoch 18/100\n",
      "60000/60000 [==============================] - 1s 24us/step - loss: 0.2688 - acc: 0.9244 - val_loss: 0.2633 - val_acc: 0.9259\n",
      "Epoch 19/100\n",
      "60000/60000 [==============================] - 1s 25us/step - loss: 0.2659 - acc: 0.9256 - val_loss: 0.2611 - val_acc: 0.9269\n",
      "Epoch 20/100\n",
      "60000/60000 [==============================] - 2s 27us/step - loss: 0.2630 - acc: 0.9260 - val_loss: 0.2581 - val_acc: 0.9276\n",
      "Epoch 21/100\n",
      "60000/60000 [==============================] - 2s 27us/step - loss: 0.2603 - acc: 0.9270 - val_loss: 0.2568 - val_acc: 0.9278\n",
      "Epoch 22/100\n",
      "60000/60000 [==============================] - 1s 25us/step - loss: 0.2573 - acc: 0.9276 - val_loss: 0.2543 - val_acc: 0.9286\n",
      "Epoch 23/100\n",
      "60000/60000 [==============================] - 1s 25us/step - loss: 0.2547 - acc: 0.9284 - val_loss: 0.2520 - val_acc: 0.9298\n",
      "Epoch 24/100\n",
      "60000/60000 [==============================] - 1s 25us/step - loss: 0.2519 - acc: 0.9299 - val_loss: 0.2489 - val_acc: 0.9306\n",
      "Epoch 25/100\n",
      "60000/60000 [==============================] - 2s 25us/step - loss: 0.2491 - acc: 0.9303 - val_loss: 0.2471 - val_acc: 0.9301\n",
      "Epoch 26/100\n",
      "60000/60000 [==============================] - 2s 25us/step - loss: 0.2466 - acc: 0.9312 - val_loss: 0.2440 - val_acc: 0.9317\n",
      "Epoch 27/100\n",
      "60000/60000 [==============================] - 1s 25us/step - loss: 0.2438 - acc: 0.9325 - val_loss: 0.2425 - val_acc: 0.9323\n",
      "Epoch 28/100\n",
      "60000/60000 [==============================] - 1s 25us/step - loss: 0.2409 - acc: 0.9329 - val_loss: 0.2402 - val_acc: 0.9327\n",
      "Epoch 29/100\n",
      "60000/60000 [==============================] - 2s 25us/step - loss: 0.2384 - acc: 0.9339 - val_loss: 0.2371 - val_acc: 0.9331\n",
      "Epoch 30/100\n",
      "60000/60000 [==============================] - 2s 25us/step - loss: 0.2357 - acc: 0.9349 - val_loss: 0.2355 - val_acc: 0.9347\n",
      "Epoch 31/100\n",
      "60000/60000 [==============================] - 2s 25us/step - loss: 0.2329 - acc: 0.9353 - val_loss: 0.2329 - val_acc: 0.9352\n",
      "Epoch 32/100\n",
      "60000/60000 [==============================] - 2s 25us/step - loss: 0.2303 - acc: 0.9360 - val_loss: 0.2307 - val_acc: 0.9349\n",
      "Epoch 33/100\n",
      "60000/60000 [==============================] - 1s 25us/step - loss: 0.2275 - acc: 0.9367 - val_loss: 0.2279 - val_acc: 0.9364\n",
      "Epoch 34/100\n",
      "60000/60000 [==============================] - 2s 25us/step - loss: 0.2247 - acc: 0.9379 - val_loss: 0.2262 - val_acc: 0.9363\n",
      "Epoch 35/100\n",
      "60000/60000 [==============================] - 1s 25us/step - loss: 0.2221 - acc: 0.9386 - val_loss: 0.2233 - val_acc: 0.9369\n",
      "Epoch 36/100\n",
      "60000/60000 [==============================] - 2s 26us/step - loss: 0.2194 - acc: 0.9390 - val_loss: 0.2225 - val_acc: 0.9371\n",
      "Epoch 37/100\n",
      "60000/60000 [==============================] - 2s 26us/step - loss: 0.2169 - acc: 0.9404 - val_loss: 0.2182 - val_acc: 0.9383\n",
      "Epoch 38/100\n",
      "60000/60000 [==============================] - 2s 26us/step - loss: 0.2141 - acc: 0.9411 - val_loss: 0.2167 - val_acc: 0.9389\n",
      "Epoch 39/100\n",
      "60000/60000 [==============================] - 2s 26us/step - loss: 0.2115 - acc: 0.9413 - val_loss: 0.2140 - val_acc: 0.9396\n",
      "Epoch 40/100\n",
      "60000/60000 [==============================] - 2s 26us/step - loss: 0.2089 - acc: 0.9424 - val_loss: 0.2117 - val_acc: 0.9404\n",
      "Epoch 41/100\n",
      "60000/60000 [==============================] - 2s 25us/step - loss: 0.2063 - acc: 0.9434 - val_loss: 0.2105 - val_acc: 0.9411\n",
      "Epoch 42/100\n",
      "60000/60000 [==============================] - 2s 26us/step - loss: 0.2037 - acc: 0.9435 - val_loss: 0.2078 - val_acc: 0.9418\n",
      "Epoch 43/100\n",
      "60000/60000 [==============================] - 2s 26us/step - loss: 0.2012 - acc: 0.9444 - val_loss: 0.2045 - val_acc: 0.9425\n",
      "Epoch 44/100\n",
      "60000/60000 [==============================] - 2s 26us/step - loss: 0.1987 - acc: 0.9452 - val_loss: 0.2027 - val_acc: 0.9438\n",
      "Epoch 45/100\n",
      "60000/60000 [==============================] - 2s 26us/step - loss: 0.1963 - acc: 0.9462 - val_loss: 0.2004 - val_acc: 0.9445\n",
      "Epoch 46/100\n",
      " 8600/60000 [===>..........................] - ETA: 1s - loss: 0.1960 - acc: 0.9478"
     ]
    }
   ],
   "source": [
    "model.fit(x_train, y_train,batch_size=100,epochs=100, validation_data=(x_test,y_test))"
   ]
  },
  {
   "cell_type": "code",
   "execution_count": null,
   "metadata": {},
   "outputs": [],
   "source": [
    "y_pred = model.predict(x_test)\n",
    "y_pred"
   ]
  },
  {
   "cell_type": "code",
   "execution_count": null,
   "metadata": {},
   "outputs": [],
   "source": [
    "loss,accuracy = model.evaluate(x_test, y_test, verbose=1)\n",
    "print('Test loss:', loss)\n",
    "print('Test accuracy:', accuracy)"
   ]
  },
  {
   "cell_type": "code",
   "execution_count": null,
   "metadata": {},
   "outputs": [],
   "source": [
    "from sklearn.metrics import confusion_matrix\n",
    "y_pred = model.predict(x_test)\n",
    "cm = confusion_matrix(y_true=np.argmax(y_test,axis=1), y_pred=np.argmax(y_pred,axis=1))\n",
    "\n",
    "print(cm)"
   ]
  },
  {
   "cell_type": "code",
   "execution_count": null,
   "metadata": {},
   "outputs": [],
   "source": []
  }
 ],
 "metadata": {
  "kernelspec": {
   "display_name": "Python 3",
   "language": "python",
   "name": "python3"
  },
  "language_info": {
   "codemirror_mode": {
    "name": "ipython",
    "version": 3
   },
   "file_extension": ".py",
   "mimetype": "text/x-python",
   "name": "python",
   "nbconvert_exporter": "python",
   "pygments_lexer": "ipython3",
   "version": "3.5.2"
  }
 },
 "nbformat": 4,
 "nbformat_minor": 2
}

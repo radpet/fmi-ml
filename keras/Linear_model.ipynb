{
 "cells": [
  {
   "cell_type": "code",
   "execution_count": 57,
   "metadata": {},
   "outputs": [],
   "source": [
    "import keras\n",
    "import numpy as np\n",
    "from keras.datasets import mnist"
   ]
  },
  {
   "cell_type": "code",
   "execution_count": 219,
   "metadata": {},
   "outputs": [
    {
     "name": "stdout",
     "output_type": "stream",
     "text": [
      "60000 train samples\n",
      "10000 test samples\n"
     ]
    },
    {
     "data": {
      "text/plain": [
       "(60000, 784)"
      ]
     },
     "execution_count": 219,
     "metadata": {},
     "output_type": "execute_result"
    }
   ],
   "source": [
    "img_size = 28\n",
    "img_flat = img_size **2\n",
    "num_classes = 10\n",
    "\n",
    "(x_train, y_train), (x_test, y_test) = mnist.load_data()\n",
    "\n",
    "print(x_train.shape[0], 'train samples')\n",
    "print(x_test.shape[0], 'test samples')\n",
    "\n",
    "x_train = x_train.reshape((-1,img_flat)) /255\n",
    "x_test = x_test.reshape((-1,img_flat))/ 255\n",
    "\n",
    "x_train.shape\n"
   ]
  },
  {
   "cell_type": "code",
   "execution_count": 220,
   "metadata": {},
   "outputs": [
    {
     "data": {
      "text/plain": [
       "(10000, 10)"
      ]
     },
     "execution_count": 220,
     "metadata": {},
     "output_type": "execute_result"
    }
   ],
   "source": [
    "from keras.utils import to_categorical\n",
    "\n",
    "y_train = to_categorical(y_train, num_classes)\n",
    "y_test = to_categorical(y_test, num_classes)\n",
    "\n",
    "\n",
    "y_test.shape"
   ]
  },
  {
   "cell_type": "code",
   "execution_count": 221,
   "metadata": {},
   "outputs": [],
   "source": [
    "from keras.models import Sequential\n",
    "from keras.layers import Dense, Activation\n",
    "\n",
    "\n",
    "model = Sequential([\n",
    "    Dense(units=img_flat, activation='tanh', input_shape=(img_flat,) ),\n",
    "    Dense(units=10),\n",
    "    Activation('softmax'),\n",
    "])"
   ]
  },
  {
   "cell_type": "code",
   "execution_count": 226,
   "metadata": {},
   "outputs": [],
   "source": [
    "from keras.optimizers import SGD\n",
    "from keras.losses import categorical_crossentropy\n",
    "model.compile(loss=categorical_crossentropy,metrics=['accuracy'],\n",
    "              optimizer=SGD())"
   ]
  },
  {
   "cell_type": "code",
   "execution_count": 227,
   "metadata": {},
   "outputs": [
    {
     "name": "stdout",
     "output_type": "stream",
     "text": [
      "Train on 60000 samples, validate on 10000 samples\n",
      "Epoch 1/26\n",
      "60000/60000 [==============================] - 5s 84us/step - loss: 0.0922 - acc: 0.9749 - val_loss: 0.1093 - val_acc: 0.9673\n",
      "Epoch 2/26\n",
      "60000/60000 [==============================] - 5s 79us/step - loss: 0.0909 - acc: 0.9754 - val_loss: 0.1082 - val_acc: 0.9676\n",
      "Epoch 3/26\n",
      "60000/60000 [==============================] - 5s 79us/step - loss: 0.0901 - acc: 0.9756 - val_loss: 0.1075 - val_acc: 0.9676\n",
      "Epoch 4/26\n",
      "60000/60000 [==============================] - 5s 80us/step - loss: 0.0893 - acc: 0.9759 - val_loss: 0.1070 - val_acc: 0.9679\n",
      "Epoch 5/26\n",
      "60000/60000 [==============================] - 5s 80us/step - loss: 0.0886 - acc: 0.9761 - val_loss: 0.1062 - val_acc: 0.9679\n",
      "Epoch 6/26\n",
      "60000/60000 [==============================] - 5s 80us/step - loss: 0.0879 - acc: 0.9763 - val_loss: 0.1063 - val_acc: 0.9677\n",
      "Epoch 7/26\n",
      "60000/60000 [==============================] - 5s 84us/step - loss: 0.0872 - acc: 0.9763 - val_loss: 0.1051 - val_acc: 0.9687\n",
      "Epoch 8/26\n",
      "60000/60000 [==============================] - 5s 84us/step - loss: 0.0864 - acc: 0.9765 - val_loss: 0.1042 - val_acc: 0.9686\n",
      "Epoch 9/26\n",
      "60000/60000 [==============================] - 6s 96us/step - loss: 0.0857 - acc: 0.9770 - val_loss: 0.1036 - val_acc: 0.9681\n",
      "Epoch 10/26\n",
      "60000/60000 [==============================] - 5s 89us/step - loss: 0.0851 - acc: 0.9769 - val_loss: 0.1032 - val_acc: 0.9687\n",
      "Epoch 11/26\n",
      "60000/60000 [==============================] - 5s 84us/step - loss: 0.0844 - acc: 0.9772 - val_loss: 0.1028 - val_acc: 0.9692\n",
      "Epoch 12/26\n",
      "60000/60000 [==============================] - 5s 84us/step - loss: 0.0838 - acc: 0.9772 - val_loss: 0.1021 - val_acc: 0.9691\n",
      "Epoch 13/26\n",
      "60000/60000 [==============================] - 4s 74us/step - loss: 0.0831 - acc: 0.9774 - val_loss: 0.1024 - val_acc: 0.9695\n",
      "Epoch 14/26\n",
      "60000/60000 [==============================] - 5s 79us/step - loss: 0.0825 - acc: 0.9776 - val_loss: 0.1013 - val_acc: 0.9698\n",
      "Epoch 15/26\n",
      "60000/60000 [==============================] - 5s 86us/step - loss: 0.0818 - acc: 0.9780 - val_loss: 0.1007 - val_acc: 0.9699\n",
      "Epoch 16/26\n",
      "60000/60000 [==============================] - 5s 84us/step - loss: 0.0812 - acc: 0.9779 - val_loss: 0.1004 - val_acc: 0.9693\n",
      "Epoch 17/26\n",
      "60000/60000 [==============================] - 6s 100us/step - loss: 0.0807 - acc: 0.9783 - val_loss: 0.0997 - val_acc: 0.9696\n",
      "Epoch 18/26\n",
      "60000/60000 [==============================] - 6s 101us/step - loss: 0.0801 - acc: 0.9784 - val_loss: 0.0995 - val_acc: 0.9703\n",
      "Epoch 19/26\n",
      "60000/60000 [==============================] - 5s 82us/step - loss: 0.0795 - acc: 0.9785 - val_loss: 0.0993 - val_acc: 0.9696\n",
      "Epoch 20/26\n",
      "60000/60000 [==============================] - 5s 80us/step - loss: 0.0789 - acc: 0.9786 - val_loss: 0.0985 - val_acc: 0.9702\n",
      "Epoch 21/26\n",
      "60000/60000 [==============================] - 5s 81us/step - loss: 0.0782 - acc: 0.9789 - val_loss: 0.0985 - val_acc: 0.9704\n",
      "Epoch 22/26\n",
      "60000/60000 [==============================] - 6s 93us/step - loss: 0.0777 - acc: 0.9791 - val_loss: 0.0982 - val_acc: 0.9711\n",
      "Epoch 23/26\n",
      "60000/60000 [==============================] - 5s 86us/step - loss: 0.0772 - acc: 0.9792 - val_loss: 0.0976 - val_acc: 0.9707\n",
      "Epoch 24/26\n",
      "60000/60000 [==============================] - 6s 93us/step - loss: 0.0766 - acc: 0.9797 - val_loss: 0.0969 - val_acc: 0.9709\n",
      "Epoch 25/26\n",
      "60000/60000 [==============================] - 6s 96us/step - loss: 0.0761 - acc: 0.9797 - val_loss: 0.0964 - val_acc: 0.9712\n",
      "Epoch 26/26\n",
      "60000/60000 [==============================] - 5s 78us/step - loss: 0.0755 - acc: 0.9800 - val_loss: 0.0964 - val_acc: 0.9710\n"
     ]
    },
    {
     "data": {
      "text/plain": [
       "<keras.callbacks.History at 0x7f8af95749b0>"
      ]
     },
     "execution_count": 227,
     "metadata": {},
     "output_type": "execute_result"
    }
   ],
   "source": [
    "model.fit(x_train, y_train,batch_size=100,epochs=26, validation_data=(x_test,y_test))"
   ]
  },
  {
   "cell_type": "code",
   "execution_count": 228,
   "metadata": {},
   "outputs": [
    {
     "data": {
      "text/plain": [
       "array([[  3.20973732e-06,   9.61513869e-10,   2.88966203e-05, ...,\n",
       "          9.98399198e-01,   2.47650987e-05,   5.65931332e-05],\n",
       "       [  5.90275567e-06,   1.48060601e-04,   9.98668909e-01, ...,\n",
       "          1.60545649e-13,   1.56897095e-05,   2.27047938e-12],\n",
       "       [  6.19875834e-07,   9.92289245e-01,   2.11142353e-03, ...,\n",
       "          9.75647708e-04,   2.82528927e-03,   2.05319637e-04],\n",
       "       ..., \n",
       "       [  2.60039510e-08,   3.90034138e-09,   1.54121878e-07, ...,\n",
       "          1.64644589e-04,   9.77030955e-04,   2.02654907e-03],\n",
       "       [  9.07775132e-07,   1.22899303e-06,   8.38915639e-08, ...,\n",
       "          1.82699978e-07,   1.51265995e-03,   5.90592073e-08],\n",
       "       [  1.36288159e-04,   5.23765387e-08,   2.15043736e-04, ...,\n",
       "          7.67588038e-09,   2.55577856e-06,   9.75394414e-07]], dtype=float32)"
      ]
     },
     "execution_count": 228,
     "metadata": {},
     "output_type": "execute_result"
    }
   ],
   "source": [
    "y_pred = model.predict(x_test)\n",
    "y_pred"
   ]
  },
  {
   "cell_type": "code",
   "execution_count": 229,
   "metadata": {},
   "outputs": [
    {
     "name": "stdout",
     "output_type": "stream",
     "text": [
      "10000/10000 [==============================] - 1s 62us/step\n",
      "Test loss: 0.0963517405443\n",
      "Test accuracy: 0.971\n"
     ]
    }
   ],
   "source": [
    "loss,accuracy = model.evaluate(x_test, y_test, verbose=1)\n",
    "print('Test loss:', loss)\n",
    "print('Test accuracy:', accuracy)"
   ]
  },
  {
   "cell_type": "code",
   "execution_count": 230,
   "metadata": {},
   "outputs": [
    {
     "name": "stdout",
     "output_type": "stream",
     "text": [
      "[[ 966    0    1    2    0    4    1    4    2    0]\n",
      " [   0 1120    3    1    0    1    4    2    4    0]\n",
      " [   4    0 1004    3    2    0    4    6    8    1]\n",
      " [   0    0    3  987    0    5    0    8    4    3]\n",
      " [   1    0    6    1  948    0    5    2    2   17]\n",
      " [   7    1    0    9    2  857    8    1    5    2]\n",
      " [   6    3    2    0    5    9  929    1    3    0]\n",
      " [   1    5   12    2    0    1    0  998    2    7]\n",
      " [   4    1    5    9    4    5    4    5  936    1]\n",
      " [   5    5    1    9   10    3    0    8    3  965]]\n"
     ]
    }
   ],
   "source": [
    "from sklearn.metrics import confusion_matrix\n",
    "y_pred = model.predict(x_test)\n",
    "cm = confusion_matrix(y_true=np.argmax(y_test,axis=1), y_pred=np.argmax(y_pred,axis=1))\n",
    "\n",
    "print(cm)"
   ]
  },
  {
   "cell_type": "code",
   "execution_count": null,
   "metadata": {},
   "outputs": [],
   "source": []
  }
 ],
 "metadata": {
  "kernelspec": {
   "display_name": "Python 3",
   "language": "python",
   "name": "python3"
  },
  "language_info": {
   "codemirror_mode": {
    "name": "ipython",
    "version": 3
   },
   "file_extension": ".py",
   "mimetype": "text/x-python",
   "name": "python",
   "nbconvert_exporter": "python",
   "pygments_lexer": "ipython3",
   "version": "3.5.2"
  }
 },
 "nbformat": 4,
 "nbformat_minor": 2
}

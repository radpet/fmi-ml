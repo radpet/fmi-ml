{
 "cells": [
  {
   "cell_type": "code",
   "execution_count": 2,
   "metadata": {},
   "outputs": [],
   "source": [
    "import pandas as pd"
   ]
  },
  {
   "cell_type": "code",
   "execution_count": 3,
   "metadata": {},
   "outputs": [],
   "source": [
    "train = pd.read_csv(\"./data/train.csv\")\n",
    "test = pd.read_csv(\"./data/test.csv\")"
   ]
  },
  {
   "cell_type": "code",
   "execution_count": 5,
   "metadata": {},
   "outputs": [],
   "source": [
    "corpus = train[\"comment_text\"].append(test[\"comment_text\"])"
   ]
  },
  {
   "cell_type": "code",
   "execution_count": 11,
   "metadata": {},
   "outputs": [],
   "source": [
    "corpus.to_csv(\"./data/corpus.csv\", index=False)"
   ]
  },
  {
   "cell_type": "code",
   "execution_count": 15,
   "metadata": {},
   "outputs": [
    {
     "name": "stdout",
     "output_type": "stream",
     "text": [
      "Read 21M words\n",
      "Number of words:  122476\n",
      "Number of labels: 0\n",
      "^C\n"
     ]
    }
   ],
   "source": [
    "! /home/radoslav/git/fastText/fasttext skipgram -input ./data/corpus.csv -output fasttext_model"
   ]
  },
  {
   "cell_type": "code",
   "execution_count": 23,
   "metadata": {},
   "outputs": [],
   "source": [
    "# https://rare-technologies.com/word2vec-tutorial/\n",
    "class MySentences(object):\n",
    "    def __init__(self, corpus):\n",
    "        self.corpus = corpus\n",
    " \n",
    "    def __iter__(self):\n",
    "        for line in self.corpus:\n",
    "            yield line.split()"
   ]
  },
  {
   "cell_type": "code",
   "execution_count": 24,
   "metadata": {},
   "outputs": [],
   "source": [
    "from gensim.models import Word2Vec"
   ]
  },
  {
   "cell_type": "code",
   "execution_count": 30,
   "metadata": {},
   "outputs": [
    {
     "data": {
      "text/plain": [
       "['Explanation',\n",
       " 'Why',\n",
       " 'the',\n",
       " 'edits',\n",
       " 'made',\n",
       " 'under',\n",
       " 'my',\n",
       " 'username',\n",
       " 'Hardcore',\n",
       " 'Metallica',\n",
       " 'Fan',\n",
       " 'were',\n",
       " 'reverted?',\n",
       " 'They',\n",
       " \"weren't\",\n",
       " 'vandalisms,',\n",
       " 'just',\n",
       " 'closure',\n",
       " 'on',\n",
       " 'some',\n",
       " 'GAs',\n",
       " 'after',\n",
       " 'I',\n",
       " 'voted',\n",
       " 'at',\n",
       " 'New',\n",
       " 'York',\n",
       " 'Dolls',\n",
       " 'FAC.',\n",
       " 'And',\n",
       " 'please',\n",
       " \"don't\",\n",
       " 'remove',\n",
       " 'the',\n",
       " 'template',\n",
       " 'from',\n",
       " 'the',\n",
       " 'talk',\n",
       " 'page',\n",
       " 'since',\n",
       " \"I'm\",\n",
       " 'retired',\n",
       " 'now.89.205.38.27']"
      ]
     },
     "execution_count": 30,
     "metadata": {},
     "output_type": "execute_result"
    }
   ],
   "source": [
    "sentences = MySentences(corpus)\n",
    "next(sentences.__iter__())"
   ]
  },
  {
   "cell_type": "code",
   "execution_count": 31,
   "metadata": {},
   "outputs": [],
   "source": [
    "model = Word2Vec(sentences, min_count=5, workers=3)"
   ]
  },
  {
   "cell_type": "code",
   "execution_count": 44,
   "metadata": {},
   "outputs": [],
   "source": [
    "model.wv.save_word2vec_format('./data/word2vec_gensim.txt', binary=False)"
   ]
  },
  {
   "cell_type": "code",
   "execution_count": 41,
   "metadata": {},
   "outputs": [
    {
     "data": {
      "text/plain": [
       "[('father', 0.7618244886398315)]"
      ]
     },
     "execution_count": 41,
     "metadata": {},
     "output_type": "execute_result"
    }
   ],
   "source": [
    "model.wv.most_similar(positive=['woman', 'king'], negative=['man'], topn=1)\n"
   ]
  },
  {
   "cell_type": "code",
   "execution_count": 40,
   "metadata": {},
   "outputs": [
    {
     "data": {
      "text/plain": [
       "'cereal'"
      ]
     },
     "execution_count": 40,
     "metadata": {},
     "output_type": "execute_result"
    }
   ],
   "source": [
    "model.wv.doesnt_match(\"breakfast cereal dinner lunch\".split())"
   ]
  },
  {
   "cell_type": "code",
   "execution_count": 38,
   "metadata": {},
   "outputs": [
    {
     "data": {
      "text/plain": [
       "0.8508224303432306"
      ]
     },
     "execution_count": 38,
     "metadata": {},
     "output_type": "execute_result"
    }
   ],
   "source": [
    "model.wv.similarity('woman', 'man')"
   ]
  },
  {
   "cell_type": "code",
   "execution_count": 39,
   "metadata": {},
   "outputs": [
    {
     "data": {
      "text/plain": [
       "array([ 0.8018882 ,  0.5519536 ,  0.40869775,  0.8414906 , -1.3719923 ,\n",
       "       -1.6985573 ,  0.43501255, -1.2750738 ,  0.01146183, -1.4415045 ,\n",
       "        2.003218  ,  0.32360706,  2.8564425 ,  0.67935896,  0.85885024,\n",
       "       -1.180699  ,  1.3475865 ,  0.44147462,  0.5367715 ,  0.78430796,\n",
       "       -0.3441605 ,  0.24932997,  0.03567862,  0.13068664, -0.07450313,\n",
       "        1.6507727 ,  0.99490505,  0.36668983,  0.48703867, -0.8065899 ,\n",
       "        2.379099  , -0.05370527, -0.20100316, -1.7899382 ,  1.0130415 ,\n",
       "       -0.4909143 ,  0.1071519 ,  0.47536394,  1.2867641 , -0.6536729 ,\n",
       "       -1.72287   , -2.236585  ,  0.07970165, -0.31535125, -0.44836798,\n",
       "        0.48075444,  0.6588206 ,  0.24048099, -1.8059297 , -0.8544645 ,\n",
       "        1.0861503 ,  1.9395565 ,  0.00459077, -0.87697685,  0.95344865,\n",
       "       -0.92031085, -2.3340836 ,  1.2659739 ,  2.0962815 , -0.92233044,\n",
       "        1.0045317 , -1.4445251 ,  1.2914226 , -0.29420444,  1.4559852 ,\n",
       "        2.5378168 , -0.22816081,  0.02470233,  2.3365917 , -0.26640365,\n",
       "       -1.5479497 ,  3.382089  ,  0.43995765,  0.3053666 , -1.1883446 ,\n",
       "        1.1100891 , -1.4620215 ,  1.0875535 , -1.598973  , -1.9965602 ,\n",
       "       -0.6556933 ,  2.5508053 ,  0.6936028 ,  1.5317405 , -3.5630932 ,\n",
       "        1.7596774 ,  0.42191637,  1.914154  ,  0.3582365 , -0.42113984,\n",
       "       -1.2704602 ,  0.7121042 , -0.7647983 , -0.06944111, -0.22483604,\n",
       "       -1.7497411 , -2.1746352 , -1.4973507 , -1.5603015 ,  0.95252365],\n",
       "      dtype=float32)"
      ]
     },
     "execution_count": 39,
     "metadata": {},
     "output_type": "execute_result"
    }
   ],
   "source": [
    "model.wv['computer']"
   ]
  },
  {
   "cell_type": "code",
   "execution_count": null,
   "metadata": {},
   "outputs": [],
   "source": []
  }
 ],
 "metadata": {
  "kernelspec": {
   "display_name": "Python 3",
   "language": "python",
   "name": "python3"
  },
  "language_info": {
   "codemirror_mode": {
    "name": "ipython",
    "version": 3
   },
   "file_extension": ".py",
   "mimetype": "text/x-python",
   "name": "python",
   "nbconvert_exporter": "python",
   "pygments_lexer": "ipython3",
   "version": "3.5.2"
  }
 },
 "nbformat": 4,
 "nbformat_minor": 2
}

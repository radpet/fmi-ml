{
 "cells": [
  {
   "cell_type": "code",
   "execution_count": 1,
   "metadata": {},
   "outputs": [],
   "source": [
    "import pandas as pd"
   ]
  },
  {
   "cell_type": "code",
   "execution_count": 2,
   "metadata": {},
   "outputs": [],
   "source": [
    "train = pd.read_csv(\"../data/train.csv\")"
   ]
  },
  {
   "cell_type": "code",
   "execution_count": 3,
   "metadata": {},
   "outputs": [],
   "source": [
    "test = pd.read_csv(\"../data/test.csv\")"
   ]
  },
  {
   "cell_type": "code",
   "execution_count": 4,
   "metadata": {},
   "outputs": [
    {
     "data": {
      "text/plain": [
       "(312735,)"
      ]
     },
     "execution_count": 4,
     "metadata": {},
     "output_type": "execute_result"
    }
   ],
   "source": [
    "corpus = train[\"comment_text\"].append(test[\"comment_text\"])\n",
    "corpus.shape"
   ]
  },
  {
   "cell_type": "code",
   "execution_count": 5,
   "metadata": {},
   "outputs": [
    {
     "data": {
      "text/plain": [
       "array(['toxic', 'severe_toxic', 'obscene', 'threat', 'insult',\n",
       "       'identity_hate'], dtype=object)"
      ]
     },
     "execution_count": 5,
     "metadata": {},
     "output_type": "execute_result"
    }
   ],
   "source": [
    "classes = train.drop([\"id\", \"comment_text\"], axis=1).columns.values\n",
    "classes"
   ]
  },
  {
   "cell_type": "code",
   "execution_count": 6,
   "metadata": {},
   "outputs": [
    {
     "name": "stderr",
     "output_type": "stream",
     "text": [
      "Using TensorFlow backend.\n"
     ]
    }
   ],
   "source": [
    "from keras.callbacks import Callback\n",
    "from sklearn.metrics import roc_auc_score\n",
    "# snippet from https://github.com/keras-team/keras/issues/3230\n",
    "class RocCallback(Callback):\n",
    "    def __init__(self,training_data,validation_data):\n",
    "        \n",
    "        self.x = training_data[0]\n",
    "        self.y = training_data[1]\n",
    "        self.x_val = validation_data[0]\n",
    "        self.y_val = validation_data[1]\n",
    "        \n",
    "    \n",
    "    def on_train_begin(self, logs={}):\n",
    "        return\n",
    " \n",
    "    def on_train_end(self, logs={}):\n",
    "        return\n",
    " \n",
    "    def on_epoch_begin(self, epoch, logs={}):\n",
    "        return\n",
    " \n",
    "    def on_epoch_end(self, epoch, logs={}):        \n",
    "        y_pred = self.model.predict(self.x)\n",
    "        roc = roc_auc_score(self.y, y_pred)      \n",
    "        \n",
    "        y_pred_val = self.model.predict(self.x_val)\n",
    "        roc_val = roc_auc_score(self.y_val, y_pred_val)      \n",
    "        \n",
    "        print('\\rroc-auc: %s - roc-auc_val: %s' % (str(round(roc,4)),str(round(roc_val,4))),end=100*' '+'\\n')\n",
    "        return\n",
    " \n",
    "    def on_batch_begin(self, batch, logs={}):\n",
    "        return\n",
    " \n",
    "    def on_batch_end(self, batch, logs={}):\n",
    "        return   "
   ]
  },
  {
   "cell_type": "code",
   "execution_count": 7,
   "metadata": {},
   "outputs": [],
   "source": [
    "from keras.preprocessing.text import Tokenizer\n",
    "from keras.preprocessing.sequence import pad_sequences"
   ]
  },
  {
   "cell_type": "code",
   "execution_count": 8,
   "metadata": {},
   "outputs": [],
   "source": [
    "max_len = 100\n",
    "max_vocab = 25000"
   ]
  },
  {
   "cell_type": "code",
   "execution_count": 9,
   "metadata": {},
   "outputs": [],
   "source": [
    "tokenizer = Tokenizer(num_words=max_vocab)\n",
    "tokenizer.fit_on_texts(corpus)"
   ]
  },
  {
   "cell_type": "code",
   "execution_count": 10,
   "metadata": {},
   "outputs": [],
   "source": [
    "def to_seq(data):\n",
    "    sequences = tokenizer.texts_to_sequences(data)\n",
    "    sequences = pad_sequences(sequences=sequences, maxlen=max_len)\n",
    "    return sequences"
   ]
  },
  {
   "cell_type": "code",
   "execution_count": 11,
   "metadata": {},
   "outputs": [],
   "source": [
    "train_seq = to_seq(train[\"comment_text\"])"
   ]
  },
  {
   "cell_type": "code",
   "execution_count": 12,
   "metadata": {},
   "outputs": [
    {
     "data": {
      "text/plain": [
       "array([    0,     0,     0,     0,     0,     0,     0,     0,     0,\n",
       "           0,     0,     0,     0,     0,     0,     0,     0,     0,\n",
       "           0,     0,     0,     0,     0,     0,     0,     0,     0,\n",
       "           0,     0,     0,     0,     0,     0,     0,     0,     0,\n",
       "           0,     0,     0,     0,     0,     0,     0,     0,     0,\n",
       "           0,     0,     0,     0,     0,     0,     0,     0,   733,\n",
       "          78,     1,   140,   131,   182,    30,   712,  4438, 10284,\n",
       "        1252,    86,   368,    51,  2230, 14039,    49,  6744,    15,\n",
       "          60,  2624,   151,     7,  2832,    33,   115,  1246, 16129,\n",
       "        2517,     5,    50,    59,   256,     1,   370,    31,     1,\n",
       "          46,    29,   144,    72,  3931,    89,  4208,  6368,  2687,  1183], dtype=int32)"
      ]
     },
     "execution_count": 12,
     "metadata": {},
     "output_type": "execute_result"
    }
   ],
   "source": [
    "train_seq[0]"
   ]
  },
  {
   "cell_type": "code",
   "execution_count": 13,
   "metadata": {},
   "outputs": [],
   "source": [
    "from sklearn.model_selection import train_test_split"
   ]
  },
  {
   "cell_type": "code",
   "execution_count": 14,
   "metadata": {},
   "outputs": [],
   "source": [
    "x_train, x_val, y_train, y_val = train_test_split(train_seq, train[classes])"
   ]
  },
  {
   "cell_type": "code",
   "execution_count": 15,
   "metadata": {},
   "outputs": [],
   "source": [
    "roc = RocCallback((x_train, y_train),( x_val, y_val))"
   ]
  },
  {
   "cell_type": "code",
   "execution_count": 29,
   "metadata": {},
   "outputs": [],
   "source": [
    "from keras.layers import Embedding, Convolution1D, MaxPooling1D, Dropout, Dense, GlobalAveragePooling1D, Bidirectional, GRU\n",
    "from keras.models import Sequential"
   ]
  },
  {
   "cell_type": "code",
   "execution_count": 30,
   "metadata": {},
   "outputs": [],
   "source": [
    "model = Sequential([\n",
    "    Embedding(max_vocab, 256, input_length=max_len),\n",
    "    Convolution1D(16, kernel_size=3, padding=\"same\", activation=\"relu\"),\n",
    "    MaxPooling1D(pool_size=3),\n",
    "    Dropout(0.3),\n",
    "    Convolution1D(32, kernel_size=3, padding=\"same\", activation=\"relu\"),\n",
    "    MaxPooling1D(pool_size=3),\n",
    "    Dropout(0.4),\n",
    "    Convolution1D(64, kernel_size=3, padding=\"same\", activation=\"relu\"),\n",
    "    MaxPooling1D(pool_size=3),\n",
    "    Dropout(0.3),\n",
    "    GlobalAveragePooling1D(),\n",
    "    Dense(64, activation=\"relu\"),\n",
    "    Dropout(0.2),\n",
    "    Dense(16, activation=\"relu\"),\n",
    "    Dense(len(classes), activation=\"sigmoid\")\n",
    "])"
   ]
  },
  {
   "cell_type": "code",
   "execution_count": 31,
   "metadata": {},
   "outputs": [
    {
     "name": "stdout",
     "output_type": "stream",
     "text": [
      "_________________________________________________________________\n",
      "Layer (type)                 Output Shape              Param #   \n",
      "=================================================================\n",
      "embedding_4 (Embedding)      (None, 100, 256)          6400000   \n",
      "_________________________________________________________________\n",
      "conv1d_10 (Conv1D)           (None, 100, 16)           12304     \n",
      "_________________________________________________________________\n",
      "max_pooling1d_10 (MaxPooling (None, 33, 16)            0         \n",
      "_________________________________________________________________\n",
      "dropout_14 (Dropout)         (None, 33, 16)            0         \n",
      "_________________________________________________________________\n",
      "conv1d_11 (Conv1D)           (None, 33, 32)            1568      \n",
      "_________________________________________________________________\n",
      "max_pooling1d_11 (MaxPooling (None, 11, 32)            0         \n",
      "_________________________________________________________________\n",
      "dropout_15 (Dropout)         (None, 11, 32)            0         \n",
      "_________________________________________________________________\n",
      "conv1d_12 (Conv1D)           (None, 11, 64)            6208      \n",
      "_________________________________________________________________\n",
      "max_pooling1d_12 (MaxPooling (None, 3, 64)             0         \n",
      "_________________________________________________________________\n",
      "dropout_16 (Dropout)         (None, 3, 64)             0         \n",
      "_________________________________________________________________\n",
      "global_average_pooling1d_4 ( (None, 64)                0         \n",
      "_________________________________________________________________\n",
      "dense_11 (Dense)             (None, 64)                4160      \n",
      "_________________________________________________________________\n",
      "dropout_17 (Dropout)         (None, 64)                0         \n",
      "_________________________________________________________________\n",
      "dense_12 (Dense)             (None, 16)                1040      \n",
      "_________________________________________________________________\n",
      "dense_13 (Dense)             (None, 6)                 102       \n",
      "=================================================================\n",
      "Total params: 6,425,382\n",
      "Trainable params: 6,425,382\n",
      "Non-trainable params: 0\n",
      "_________________________________________________________________\n"
     ]
    }
   ],
   "source": [
    "model.summary()"
   ]
  },
  {
   "cell_type": "code",
   "execution_count": 32,
   "metadata": {},
   "outputs": [],
   "source": [
    "model.compile(optimizer=\"adam\", loss=\"binary_crossentropy\")"
   ]
  },
  {
   "cell_type": "code",
   "execution_count": 33,
   "metadata": {},
   "outputs": [],
   "source": [
    "from keras.callbacks import ModelCheckpoint"
   ]
  },
  {
   "cell_type": "code",
   "execution_count": 34,
   "metadata": {},
   "outputs": [],
   "source": [
    "checkpoint = ModelCheckpoint(filepath=\"./models/conv_dense.hdf5\", save_best_only=True)"
   ]
  },
  {
   "cell_type": "code",
   "execution_count": 35,
   "metadata": {},
   "outputs": [
    {
     "name": "stdout",
     "output_type": "stream",
     "text": [
      "Train on 119678 samples, validate on 39893 samples\n",
      "Epoch 1/5\n",
      "roc-auc: 0.8567 - roc-auc_val: 0.8244                                                                                                    \n",
      "119678/119678 [==============================] - 13s 106us/step - loss: 0.1606 - val_loss: 0.1334\n",
      "Epoch 2/5\n",
      "roc-auc: 0.9442 - roc-auc_val: 0.9196                                                                                                    \n",
      "119678/119678 [==============================] - 12s 97us/step - loss: 0.1007 - val_loss: 0.0997\n",
      "Epoch 3/5\n",
      "roc-auc: 0.9527 - roc-auc_val: 0.9172                                                                                                    \n",
      "119678/119678 [==============================] - 12s 97us/step - loss: 0.0854 - val_loss: 0.0937\n",
      "Epoch 4/5\n",
      "roc-auc: 0.9576 - roc-auc_val: 0.9133                                                                                                    \n",
      "119678/119678 [==============================] - 12s 98us/step - loss: 0.0806 - val_loss: 0.0910\n",
      "Epoch 5/5\n",
      "roc-auc: 0.961 - roc-auc_val: 0.9102                                                                                                    \n",
      "119678/119678 [==============================] - 12s 97us/step - loss: 0.0768 - val_loss: 0.0921\n"
     ]
    },
    {
     "data": {
      "text/plain": [
       "<keras.callbacks.History at 0x7fbf321e5160>"
      ]
     },
     "execution_count": 35,
     "metadata": {},
     "output_type": "execute_result"
    }
   ],
   "source": [
    "model.fit(x_train, y_train, validation_data=(x_val, y_val), epochs=5, batch_size=256, callbacks=[checkpoint,roc ])"
   ]
  },
  {
   "cell_type": "code",
   "execution_count": 51,
   "metadata": {},
   "outputs": [],
   "source": [
    "model = Sequential([\n",
    "    Embedding(max_vocab, 256, input_length=max_len),\n",
    "    Convolution1D(16, kernel_size=3, padding=\"same\"),\n",
    "    MaxPooling1D(pool_size=3),\n",
    "    Dropout(0.3),\n",
    "    Convolution1D(32, kernel_size=3, padding=\"same\"),\n",
    "    MaxPooling1D(pool_size=3),\n",
    "    Dropout(0.4),\n",
    "    Convolution1D(64, kernel_size=3, padding=\"same\"),\n",
    "    MaxPooling1D(pool_size=3),\n",
    "    Dropout(0.3),\n",
    "    Bidirectional(GRU(64, return_sequences=True)),\n",
    "    GlobalAveragePooling1D(),\n",
    "    Dense(64, activation=\"relu\"),\n",
    "    Dropout(0.2),\n",
    "    Dense(16, activation=\"relu\"),\n",
    "    Dropout(0.5),\n",
    "    Dense(8, activation=\"relu\"),\n",
    "    Dense(len(classes), activation=\"sigmoid\")\n",
    "])"
   ]
  },
  {
   "cell_type": "code",
   "execution_count": 52,
   "metadata": {},
   "outputs": [
    {
     "name": "stdout",
     "output_type": "stream",
     "text": [
      "_________________________________________________________________\n",
      "Layer (type)                 Output Shape              Param #   \n",
      "=================================================================\n",
      "embedding_8 (Embedding)      (None, 100, 256)          6400000   \n",
      "_________________________________________________________________\n",
      "conv1d_22 (Conv1D)           (None, 100, 16)           12304     \n",
      "_________________________________________________________________\n",
      "max_pooling1d_22 (MaxPooling (None, 33, 16)            0         \n",
      "_________________________________________________________________\n",
      "dropout_33 (Dropout)         (None, 33, 16)            0         \n",
      "_________________________________________________________________\n",
      "conv1d_23 (Conv1D)           (None, 33, 32)            1568      \n",
      "_________________________________________________________________\n",
      "max_pooling1d_23 (MaxPooling (None, 11, 32)            0         \n",
      "_________________________________________________________________\n",
      "dropout_34 (Dropout)         (None, 11, 32)            0         \n",
      "_________________________________________________________________\n",
      "conv1d_24 (Conv1D)           (None, 11, 64)            6208      \n",
      "_________________________________________________________________\n",
      "max_pooling1d_24 (MaxPooling (None, 3, 64)             0         \n",
      "_________________________________________________________________\n",
      "dropout_35 (Dropout)         (None, 3, 64)             0         \n",
      "_________________________________________________________________\n",
      "bidirectional_6 (Bidirection (None, 3, 128)            49536     \n",
      "_________________________________________________________________\n",
      "global_average_pooling1d_8 ( (None, 128)               0         \n",
      "_________________________________________________________________\n",
      "dense_26 (Dense)             (None, 64)                8256      \n",
      "_________________________________________________________________\n",
      "dropout_36 (Dropout)         (None, 64)                0         \n",
      "_________________________________________________________________\n",
      "dense_27 (Dense)             (None, 16)                1040      \n",
      "_________________________________________________________________\n",
      "dropout_37 (Dropout)         (None, 16)                0         \n",
      "_________________________________________________________________\n",
      "dense_28 (Dense)             (None, 8)                 136       \n",
      "_________________________________________________________________\n",
      "dense_29 (Dense)             (None, 6)                 54        \n",
      "=================================================================\n",
      "Total params: 6,479,102\n",
      "Trainable params: 6,479,102\n",
      "Non-trainable params: 0\n",
      "_________________________________________________________________\n"
     ]
    }
   ],
   "source": [
    "model.summary()"
   ]
  },
  {
   "cell_type": "code",
   "execution_count": 53,
   "metadata": {},
   "outputs": [],
   "source": [
    "model.compile(optimizer=\"adam\", loss=\"binary_crossentropy\")"
   ]
  },
  {
   "cell_type": "code",
   "execution_count": 54,
   "metadata": {},
   "outputs": [],
   "source": [
    "checkpoint = ModelCheckpoint(filepath=\"./models/conv_gru.hdf5\", save_best_only=True)"
   ]
  },
  {
   "cell_type": "code",
   "execution_count": 55,
   "metadata": {},
   "outputs": [
    {
     "name": "stdout",
     "output_type": "stream",
     "text": [
      "Train on 119678 samples, validate on 39893 samples\n",
      "Epoch 1/5\n",
      "roc-auc: 0.7871 - roc-auc_val: 0.7843                                                                                                    \n",
      "119678/119678 [==============================] - 22s 180us/step - loss: 0.2192 - val_loss: 0.1241\n",
      "Epoch 2/5\n",
      "roc-auc: 0.9263 - roc-auc_val: 0.9145                                                                                                    \n",
      "119678/119678 [==============================] - 19s 159us/step - loss: 0.1069 - val_loss: 0.0836\n",
      "Epoch 3/5\n",
      "roc-auc: 0.9361 - roc-auc_val: 0.9166                                                                                                    \n",
      "119678/119678 [==============================] - 19s 159us/step - loss: 0.0877 - val_loss: 0.0823\n",
      "Epoch 4/5\n",
      "roc-auc: 0.9526 - roc-auc_val: 0.9267                                                                                                    \n",
      "119678/119678 [==============================] - 19s 163us/step - loss: 0.0808 - val_loss: 0.0815\n",
      "Epoch 5/5\n",
      "roc-auc: 0.958 - roc-auc_val: 0.9257                                                                                                    \n",
      "119678/119678 [==============================] - 19s 160us/step - loss: 0.0764 - val_loss: 0.0836\n"
     ]
    },
    {
     "data": {
      "text/plain": [
       "<keras.callbacks.History at 0x7fbef4f06e48>"
      ]
     },
     "execution_count": 55,
     "metadata": {},
     "output_type": "execute_result"
    }
   ],
   "source": [
    "model.fit(x_train, y_train, validation_data=(x_val, y_val), epochs=5, batch_size=256, callbacks=[checkpoint,roc ])"
   ]
  },
  {
   "cell_type": "code",
   "execution_count": null,
   "metadata": {},
   "outputs": [],
   "source": []
  }
 ],
 "metadata": {
  "kernelspec": {
   "display_name": "Python 3",
   "language": "python",
   "name": "python3"
  },
  "language_info": {
   "codemirror_mode": {
    "name": "ipython",
    "version": 3
   },
   "file_extension": ".py",
   "mimetype": "text/x-python",
   "name": "python",
   "nbconvert_exporter": "python",
   "pygments_lexer": "ipython3",
   "version": "3.5.2"
  }
 },
 "nbformat": 4,
 "nbformat_minor": 2
}

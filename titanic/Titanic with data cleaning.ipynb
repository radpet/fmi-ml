{
 "cells": [
  {
   "cell_type": "code",
   "execution_count": 383,
   "metadata": {},
   "outputs": [],
   "source": [
    "import pandas as pd\n",
    "from sklearn import preprocessing\n",
    "import numpy as np\n",
    "import matplotlib.pyplot as plt\n",
    "import random"
   ]
  },
  {
   "cell_type": "code",
   "execution_count": 503,
   "metadata": {},
   "outputs": [
    {
     "name": "stdout",
     "output_type": "stream",
     "text": [
      "Initial dataset shape:(891, 11)\n",
      "(891, 10)\n",
      "(891, 10)\n"
     ]
    },
    {
     "name": "stderr",
     "output_type": "stream",
     "text": [
      "/usr/local/lib/python3.5/dist-packages/ipykernel_launcher.py:38: SettingWithCopyWarning: \n",
      "A value is trying to be set on a copy of a slice from a DataFrame.\n",
      "Try using .loc[row_indexer,col_indexer] = value instead\n",
      "\n",
      "See the caveats in the documentation: http://pandas.pydata.org/pandas-docs/stable/indexing.html#indexing-view-versus-copy\n"
     ]
    }
   ],
   "source": [
    "dataset = pd.read_csv(\"train.csv\", index_col=\"PassengerId\")\n",
    "print(\"Initial dataset shape:{}\".format(dataset.shape))\n",
    "#print(dataset.head())\n",
    "def pipe(dataset):\n",
    "    \n",
    "    y = dataset[\"Survived\"]\n",
    "    dataset = dataset.drop([\"Survived\"], axis=1)\n",
    "    x = pretify(dataset, False)\n",
    "    return (x,y)\n",
    "\n",
    "ohe = preprocessing.OneHotEncoder()\n",
    "\n",
    "def pretify(dataset, prod=True):\n",
    "    x = dataset.drop([\"Cabin\", \"Embarked\",\"Sex\", \"Name\", \"Ticket\"], axis=1)\n",
    "    x[\"Age\"] = x[\"Age\"].fillna(0)\n",
    "    x[\"Fare\"] = x[\"Fare\"].fillna(0)\n",
    "    \n",
    "    ix=[i for i in dataset.columns if i in [\"Embarked\", \"Sex\"]]  #without Cabin and Ticket\n",
    "    \n",
    "    x_cat = dataset[ix];\n",
    "    \n",
    "    #print(x_cat.shape)\n",
    "    \n",
    "    cabin_list = list(\"ABCDEFTG\")\n",
    "    def map_cabin(cabin):\n",
    "        #for substring in str(cabin):\n",
    "            #if substring in cabin_list:\n",
    "                #return substring\n",
    "        \n",
    "        if cabin is not None:\n",
    "            return str(cabin)\n",
    "        \n",
    "        return \"U\"\n",
    "    \n",
    "    #x_cat[\"Cabin\"] = x_cat[\"Cabin\"].map(map_cabin)\n",
    "    \n",
    "    towns = list(\"CQS\")\n",
    "    x_cat[\"Embarked\"] = x_cat[\"Embarked\"].fillna(random.choice(towns))\n",
    "    \n",
    "    #print(x_cat.head())\n",
    "    \n",
    "    x_cat = x_cat.apply(preprocessing.LabelEncoder().fit_transform)\n",
    "    \n",
    "    #print(x_cat.head())\n",
    "    \n",
    "    if not prod:\n",
    "        \n",
    "        ohe.fit(x_cat)\n",
    "    \n",
    "    \n",
    "    x_cat_encoded = ohe.transform(x_cat)\n",
    "    \n",
    "    \n",
    "    #x = np.column_stack((x, x_cat))\n",
    "    #print(x_cat_encoded.toarray().shape)\n",
    "    x = np.column_stack((x, x_cat_encoded.toarray()))\n",
    "    \n",
    "    print(x.shape)\n",
    "    \n",
    "    return x\n",
    "\n",
    "dataset_X, dataset_y = pipe(dataset)\n",
    "print(dataset_X.shape)"
   ]
  },
  {
   "cell_type": "code",
   "execution_count": 504,
   "metadata": {},
   "outputs": [
    {
     "name": "stdout",
     "output_type": "stream",
     "text": [
      "(668, 10)\n"
     ]
    }
   ],
   "source": [
    "from sklearn.model_selection import train_test_split\n",
    "train_X , test_X, train_y, test_y = train_test_split(dataset_X, dataset_y, random_state=26)\n",
    "\n",
    "print(train_X.shape)\n"
   ]
  },
  {
   "cell_type": "code",
   "execution_count": 505,
   "metadata": {},
   "outputs": [
    {
     "name": "stdout",
     "output_type": "stream",
     "text": [
      "Train score is 0.7919161676646707\n",
      "Test score is 0.7982062780269058\n",
      "\n",
      "using alpha = 100\n",
      "Train score is 0.8083832335329342\n",
      "Test score is 0.7847533632286996\n",
      "\n"
     ]
    }
   ],
   "source": [
    "from sklearn.linear_model import LogisticRegression\n",
    "\n",
    "model = LogisticRegression()\n",
    "model.fit(train_X, train_y)\n",
    "\n",
    "def print_score(train, test):\n",
    "    print(\"Train score is {}\".format(train))\n",
    "    print(\"Test score is {}\".format(test))\n",
    "    print(\"\")\n",
    "\n",
    "print_score(model.score(train_X, train_y), model.score(test_X, test_y))\n",
    "#alphas = [0.001, 0.01, 0.1, 1, 10, 100, 1000]\n",
    "alphas = [100]\n",
    "for alpha in alphas:\n",
    "    \n",
    "    from sklearn.linear_model import RidgeClassifier\n",
    "    model2 = RidgeClassifier(alpha)\n",
    "    model2.fit(train_X, train_y)\n",
    "    print(\"using alpha = {}\".format(alpha))\n",
    "    print(\"Train score is {}\".format(model2.score(train_X, train_y)))\n",
    "    print(\"Test score is {}\".format(model2.score(test_X, test_y)))\n",
    "    print(\"\")"
   ]
  },
  {
   "cell_type": "code",
   "execution_count": 506,
   "metadata": {},
   "outputs": [],
   "source": [
    "def save(prediction):\n",
    "    df = pd.DataFrame(data={\"Survived\": prediction}, index=test_data[\"PassengerId\"])\n",
    "    df.to_csv(\"with_data_cleaning.csv\")"
   ]
  },
  {
   "cell_type": "code",
   "execution_count": 507,
   "metadata": {},
   "outputs": [
    {
     "name": "stdout",
     "output_type": "stream",
     "text": [
      "Train score is 0.7919161676646707\n",
      "Test score is 0.672645739910314\n",
      "\n"
     ]
    }
   ],
   "source": [
    "from sklearn.neighbors import KNeighborsClassifier\n",
    "\n",
    "knn_model = KNeighborsClassifier()\n",
    "knn_model.fit(train_X, train_y)\n",
    "\n",
    "print_score(knn_model.score(train_X, train_y), knn_model.score(test_X, test_y))"
   ]
  },
  {
   "cell_type": "code",
   "execution_count": 508,
   "metadata": {},
   "outputs": [
    {
     "name": "stdout",
     "output_type": "stream",
     "text": [
      "Train score is 0.7919161676646707\n",
      "Test score is 0.672645739910314\n",
      "\n"
     ]
    },
    {
     "name": "stderr",
     "output_type": "stream",
     "text": [
      "/usr/local/lib/python3.5/dist-packages/sklearn/linear_model/stochastic_gradient.py:84: FutureWarning: max_iter and tol parameters have been added in <class 'sklearn.linear_model.stochastic_gradient.SGDClassifier'> in 0.19. If both are left unset, they default to max_iter=5 and tol=None. If tol is not None, max_iter defaults to max_iter=1000. From 0.21, default max_iter will be 1000, and default tol will be 1e-3.\n",
      "  \"and default tol will be 1e-3.\" % type(self), FutureWarning)\n"
     ]
    }
   ],
   "source": [
    "from sklearn.linear_model import SGDClassifier\n",
    "\n",
    "sdg_model = SGDClassifier()\n",
    "sdg_model.fit(train_X, train_y)\n",
    "\n",
    "print_score(knn_model.score(train_X, train_y), knn_model.score(test_X, test_y))"
   ]
  },
  {
   "cell_type": "code",
   "execution_count": 509,
   "metadata": {},
   "outputs": [
    {
     "name": "stdout",
     "output_type": "stream",
     "text": [
      "Train score is 0.968562874251497\n",
      "Test score is 0.820627802690583\n",
      "\n"
     ]
    }
   ],
   "source": [
    "from sklearn.ensemble import RandomForestClassifier\n",
    "\n",
    "random_f_model = RandomForestClassifier(random_state=0)\n",
    "random_f_model.fit(train_X, train_y)\n",
    "\n",
    "print_score(random_f_model.score(train_X, train_y), random_f_model.score(test_X, test_y))"
   ]
  },
  {
   "cell_type": "code",
   "execution_count": 510,
   "metadata": {},
   "outputs": [
    {
     "name": "stdout",
     "output_type": "stream",
     "text": [
      "(418, 10)\n"
     ]
    },
    {
     "name": "stderr",
     "output_type": "stream",
     "text": [
      "/usr/local/lib/python3.5/dist-packages/ipykernel_launcher.py:38: SettingWithCopyWarning: \n",
      "A value is trying to be set on a copy of a slice from a DataFrame.\n",
      "Try using .loc[row_indexer,col_indexer] = value instead\n",
      "\n",
      "See the caveats in the documentation: http://pandas.pydata.org/pandas-docs/stable/indexing.html#indexing-view-versus-copy\n"
     ]
    }
   ],
   "source": [
    "test_data = pd.read_csv(\"test.csv\")\n",
    "test_data_processed = pretify(test_data.drop([\"PassengerId\"], axis=1))\n",
    "\n",
    "#prediction = random_f_model.predict(test_data_processed)\n",
    "#prediction = model2.predict(test_data_processed)\n",
    "prediction = model.predict(test_data_processed)\n",
    "\n",
    "\n",
    "save(prediction)"
   ]
  },
  {
   "cell_type": "code",
   "execution_count": null,
   "metadata": {},
   "outputs": [],
   "source": []
  }
 ],
 "metadata": {
  "kernelspec": {
   "display_name": "Python 3",
   "language": "python",
   "name": "python3"
  },
  "language_info": {
   "codemirror_mode": {
    "name": "ipython",
    "version": 3
   },
   "file_extension": ".py",
   "mimetype": "text/x-python",
   "name": "python",
   "nbconvert_exporter": "python",
   "pygments_lexer": "ipython3",
   "version": "3.5.2"
  }
 },
 "nbformat": 4,
 "nbformat_minor": 2
}

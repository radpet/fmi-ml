{
 "cells": [
  {
   "cell_type": "code",
   "execution_count": 2,
   "metadata": {},
   "outputs": [],
   "source": [
    "import pandas as pd\n",
    "from sklearn.preprocessing import LabelEncoder, OneHotEncoder\n",
    "import numpy as np\n",
    "import matplotlib.pyplot as plt\n",
    "import random"
   ]
  },
  {
   "cell_type": "markdown",
   "metadata": {},
   "source": [
    "В модела включвам всички налични данни (Общо взето овърфитвам, но дава най-добър резултат в kaggle засега). Разделям фичърите на два типа, тикива чиито стойности са числа и друг тип низове. Сливам всички данни, които са ми предоставени train + test, за да може енкодинга да обхване всички възможни стойности.\n",
    "\n",
    "Числов тип:\n",
    "* Age\n",
    "* Fare\n",
    "* SibSp\n",
    "* Parch\n",
    "\n",
    "Тип низове(третирам ги като категории)\n",
    "* Pclass\n",
    "* Embarked\n",
    "* Sex\n",
    "* Cabin\n",
    "* Name\n",
    "* Ticket\n",
    "\n",
    "\n",
    "Правя нужни обработки:\n",
    "\n",
    "1. От всяко име на човек се опитвам да взема титлата, ако не успея я маркирам като 'Unknown'. Слагам титлата като име на пътника.\n",
    "2. За да попълня по-точно липсващите години на пътници, за всяка титла намирам средната възраст и попълвам с нея.\n",
    "3. Попълвам:\n",
    "  * липсващaта цена на пътуването (Fare) със средната стойност. Интересно би било да се попълни спрямо класата, но не липсват достатъчно много, за да има разлика.\n",
    "  * липсващите места на отплаване (Embarked) ги попълвам с Q (най-малко хора са тръгнали от там)\n",
    "  * (част от липсващите Cabin най-вероятно може да се попълнят на база семейните връзки, но не съм го разглеждал)\n",
    "4. Включвам номера на билета, тъй като се образуват клъстери от хора използващи едни и същи билети и това подобрява резултата на модел-а.\n",
    "5. Ползвам LabelEncoder + OneHotEncoder, за обработката на категориите\n",
    "\n"
   ]
  },
  {
   "cell_type": "code",
   "execution_count": 5,
   "metadata": {},
   "outputs": [
    {
     "name": "stdout",
     "output_type": "stream",
     "text": [
      "Pclass         0\n",
      "Name           0\n",
      "Sex            0\n",
      "Age          263\n",
      "SibSp          0\n",
      "Parch          0\n",
      "Ticket         0\n",
      "Fare           1\n",
      "Cabin       1014\n",
      "Embarked       2\n",
      "dtype: int64\n"
     ]
    }
   ],
   "source": [
    "train = pd.read_csv(\"train.csv\", index_col=\"PassengerId\")\n",
    "train_no_survived = train.drop(\"Survived\", axis=1);\n",
    "\n",
    "submission_dataset = pd.read_csv(\"test.csv\") \n",
    "\n",
    "dataset = train_no_survived.append(submission_dataset.drop(\"PassengerId\", axis=1))\n",
    "\n",
    "print(dataset.isnull().sum())"
   ]
  },
  {
   "cell_type": "code",
   "execution_count": 6,
   "metadata": {},
   "outputs": [
    {
     "name": "stdout",
     "output_type": "stream",
     "text": [
      "{'Mrs.': 36.994117647058822, 'Unknown': 42.65625, 'Master.': 5.4826415094339627, 'Miss.': 21.774238095238097, 'Mr.': 32.252151462994838}\n",
      "Pclass      0\n",
      "Name        0\n",
      "Sex         0\n",
      "Age         0\n",
      "SibSp       0\n",
      "Parch       0\n",
      "Ticket      0\n",
      "Fare        0\n",
      "Cabin       0\n",
      "Embarked    0\n",
      "dtype: int64\n"
     ]
    }
   ],
   "source": [
    "title_list = [\"Mr.\", \"Master.\", \"Mrs.\", \"Miss.\"]\n",
    "    \n",
    "# http://grammarist.com/usage/mr-mrs-ms-and-miss/\n",
    "def map_names(name):\n",
    "    for title in title_list:\n",
    "        if title in name:\n",
    "            return title\n",
    "    return \"Unknown\"\n",
    "            \n",
    "dataset[\"Name\"] = dataset[\"Name\"].map(map_names)\n",
    "    \n",
    "def slice_and_get_mean_age_by_name(name):\n",
    "    return dataset.loc[dataset[\"Name\"] == name, \"Age\"].mean()\n",
    "    \n",
    "age_means = {k:slice_and_get_mean_age_by_name(k) for k in [\"Mr.\", \"Master.\", \"Mrs.\", \"Miss.\", \"Unknown\"]}\n",
    "\n",
    "print(age_means)\n",
    "\n",
    "def fill_age(row):\n",
    "    if np.isnan(row[3]):\n",
    "        row[3] = age_means[row[1]]\n",
    "    return row\n",
    "\n",
    "dataset = dataset.apply(fill_age, axis=1)\n",
    "\n",
    "dataset[\"Fare\"] = dataset[\"Fare\"].fillna(dataset[\"Fare\"].mean())\n",
    "dataset[\"Cabin\"] = dataset[\"Cabin\"].fillna(\"\")\n",
    "\n",
    "dataset[\"Embarked\"] = dataset[\"Embarked\"].fillna(\"Q\")\n",
    "dataset[\"Ticket\"] = dataset[\"Ticket\"].fillna(\"Unknown\")\n",
    "\n",
    "print(dataset.isnull().sum())\n",
    "\n",
    "numeric_columns = [\"Age\", \"Fare\", \"SibSp\", \"Parch\"]\n",
    "#cabin improves score by 0.005 might improve if we fill more cabins\n",
    "categorical_columns = [\"Pclass\", \"Embarked\", \"Sex\", \"Cabin\", \"Name\", \"Ticket\"]; \n",
    "\n",
    "encoders = {col: LabelEncoder().fit(dataset[col]) for col in categorical_columns}\n",
    "\n",
    "def encode_categorical(data, columns, encoders):\n",
    "    return pd.DataFrame({col: encoders[col].transform(data[col]) for col in columns},\n",
    "                        index = data.index)\n",
    "\n",
    "encoded = encode_categorical(dataset, categorical_columns , encoders)\n",
    "\n",
    "one_hot_encoder = OneHotEncoder().fit(encoded)\n",
    "\n",
    "train_data_cleaned = dataset[0:-418]\n",
    "\n",
    "test_data_cleaned_for_submission = dataset.tail(418)\n"
   ]
  },
  {
   "cell_type": "code",
   "execution_count": 11,
   "metadata": {},
   "outputs": [
    {
     "data": {
      "text/plain": [
       "<matplotlib.axes._subplots.AxesSubplot at 0x7f3c52908828>"
      ]
     },
     "execution_count": 11,
     "metadata": {},
     "output_type": "execute_result"
    },
    {
     "data": {
      "image/png": "[encoded data removed]",
      "text/plain": [
       "<matplotlib.figure.Figure at 0x7f3c54e38b70>"
      ]
     },
     "metadata": {},
     "output_type": "display_data"
    },
    {
     "data": {
      "image/png": "[encoded data removed]",
      "text/plain": [
       "<matplotlib.figure.Figure at 0x7f3c52b2b1d0>"
      ]
     },
     "metadata": {},
     "output_type": "display_data"
    },
    {
     "data": {
      "image/png": "[encoded data removed]",
      "text/plain": [
       "<matplotlib.figure.Figure at 0x7f3c5297de80>"
      ]
     },
     "metadata": {},
     "output_type": "display_data"
    },
    {
     "data": {
      "image/png": "[encoded data removed]",
      "text/plain": [
       "<matplotlib.figure.Figure at 0x7f3c528d3908>"
      ]
     },
     "metadata": {},
     "output_type": "display_data"
    }
   ],
   "source": [
    "%matplotlib inline\n",
    "plt.figure()\n",
    "train_data_cleaned[\"Pclass\"].value_counts().plot(kind=\"bar\", title=\"Passenger counts\")\n",
    "\n",
    "plt.figure()\n",
    "train_data_cleaned[\"Name\"].value_counts().plot(kind=\"bar\", title=\"Title counts\")\n",
    "\n",
    "plt.figure()\n",
    "train_data_cleaned.loc[train[\"Survived\"] == 1, \"Name\"].value_counts().plot(kind=\"bar\", title=\"Survived by title\")\n",
    "\n",
    "plt.figure()\n",
    "(train_data_cleaned.loc[train[\"Survived\"] == 1, \"Name\"].value_counts() / train_data_cleaned[\"Name\"].value_counts()).plot(kind=\"bar\", title=\"Ratio between survived by title\")\n"
   ]
  },
  {
   "cell_type": "code",
   "execution_count": 25,
   "metadata": {},
   "outputs": [
    {
     "name": "stdout",
     "output_type": "stream",
     "text": [
      "0    0.348894\n",
      "1    0.310345\n",
      "Name: Survived, dtype: float64\n"
     ]
    }
   ],
   "source": [
    "from sklearn.model_selection import train_test_split\n",
    "#seems to be lucky split :(\n",
    "train_X , test_X, train_y, test_y = train_test_split(train_data_cleaned, train[\"Survived\"], random_state=26)\n",
    "\n",
    "print(test_y.value_counts()/train_y.value_counts())\n"
   ]
  },
  {
   "cell_type": "code",
   "execution_count": 26,
   "metadata": {},
   "outputs": [
    {
     "name": "stdout",
     "output_type": "stream",
     "text": [
      "Shape of numeric columns of train and test (668, 4) (223, 4)\n",
      "Shape of encoded categorical cloumns of train and test (668, 1129) (223, 1129)\n",
      "Shape of numeric and categorical (668, 1133) (223, 1133)\n"
     ]
    }
   ],
   "source": [
    "one_hot_X_train = one_hot_encoder.transform(encode_categorical(train_X[categorical_columns], categorical_columns, encoders))\n",
    "one_hot_X_test = one_hot_encoder.transform(encode_categorical(test_X[categorical_columns], categorical_columns, encoders))\n",
    "\n",
    "# train_X[\"Family\"] = train_X[\"SibSp\"] + train_X[\"Parch\"]\n",
    "# train_X = train_X.drop([\"SibSp\", \"Parch\"], axis=1)\n",
    "\n",
    "# test_X[\"Family\"] = test_X[\"SibSp\"] + test_X[\"Parch\"]\n",
    "# test_X = test_X.drop([\"SibSp\", \"Parch\"], axis=1)\n",
    "\n",
    "# print(train_X.head(10))\n",
    "\n",
    "print(\"Shape of numeric columns of train and test {} {}\".format(train_X[numeric_columns].shape, test_X[numeric_columns].shape))\n",
    "print(\"Shape of encoded categorical cloumns of train and test {} {}\".format(one_hot_X_train.shape, one_hot_X_test.shape))\n",
    "\n",
    "train_X = np.concatenate([train_X[numeric_columns], one_hot_X_train.toarray()], axis=1);\n",
    "test_X = np.concatenate([test_X[numeric_columns], one_hot_X_test.toarray()], axis=1)\n",
    "\n",
    "\n",
    "\n",
    "print(\"Shape of numeric and categorical {} {}\".format(train_X.shape, test_X.shape))\n",
    "\n"
   ]
  },
  {
   "cell_type": "code",
   "execution_count": 27,
   "metadata": {},
   "outputs": [
    {
     "name": "stdout",
     "output_type": "stream",
     "text": [
      "Logistic regression score:\n",
      "Train score is 0.9955089820359282\n",
      "Test score is 0.8385650224215246\n",
      "\n"
     ]
    }
   ],
   "source": [
    "from sklearn.linear_model import LogisticRegression\n",
    "\n",
    "model = LogisticRegression(C=10)\n",
    "model.fit(train_X, train_y)\n",
    "\n",
    "def print_score(train, test):\n",
    "    print(\"Train score is {}\".format(train))\n",
    "    print(\"Test score is {}\".format(test))\n",
    "    print(\"\")\n",
    "\n",
    "print(\"Logistic regression score:\")\n",
    "print_score(model.score(train_X, train_y), model.score(test_X, test_y))"
   ]
  },
  {
   "cell_type": "code",
   "execution_count": 28,
   "metadata": {},
   "outputs": [
    {
     "name": "stdout",
     "output_type": "stream",
     "text": [
      "Random forest score:\n",
      "Train score is 0.9790419161676647\n",
      "Test score is 0.8295964125560538\n",
      "\n"
     ]
    }
   ],
   "source": [
    "from sklearn.ensemble import RandomForestClassifier\n",
    "from sklearn.model_selection import GridSearchCV\n",
    "\n",
    "#tested with different n_estimators = 10 best\n",
    "random_f_model = RandomForestClassifier(random_state=0)\n",
    "random_f_model.fit(train_X, train_y)\n",
    "print(\"Random forest score:\")\n",
    "print_score(random_f_model.score(train_X, train_y), random_f_model.score(test_X, test_y))"
   ]
  },
  {
   "cell_type": "code",
   "execution_count": 29,
   "metadata": {},
   "outputs": [],
   "source": [
    "one_hot_test_data = one_hot_encoder.transform(encode_categorical(test_data_cleaned_for_submission[categorical_columns], categorical_columns, encoders))\n",
    "\n",
    "# Same score as having sibsp and parch columns\n",
    "# test_data_cleaned_for_submission[\"Family\"] = test_data_cleaned_for_submission[\"SibSp\"] +test_data_cleaned_for_submission[\"Parch\"]\n",
    "# test_data_cleaned_for_submission= test_data_cleaned_for_submission.drop([\"SibSp\", \"Parch\"], axis=1)\n",
    "\n",
    "\n",
    "test_data_processed = np.concatenate([test_data_cleaned_for_submission[numeric_columns], one_hot_test_data.toarray()], axis=1);\n",
    "\n",
    "#prediction = random_f_model.predict(test_data_processed)\n",
    "prediction = model.predict(test_data_processed)\n",
    "\n",
    "def save(prediction):\n",
    "    df = pd.DataFrame(data={\"Survived\": prediction}, index=submission_dataset[\"PassengerId\"])\n",
    "    df.to_csv(\"with_data_cleaning.csv\")\n",
    "\n",
    "save(prediction)"
   ]
  }
 ],
 "metadata": {
  "kernelspec": {
   "display_name": "Python 3",
   "language": "python",
   "name": "python3"
  },
  "language_info": {
   "codemirror_mode": {
    "name": "ipython",
    "version": 3
   },
   "file_extension": ".py",
   "mimetype": "text/x-python",
   "name": "python",
   "nbconvert_exporter": "python",
   "pygments_lexer": "ipython3",
   "version": "3.5.2"
  }
 },
 "nbformat": 4,
 "nbformat_minor": 2
}

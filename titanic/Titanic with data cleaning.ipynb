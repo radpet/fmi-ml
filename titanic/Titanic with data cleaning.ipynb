{
 "cells": [
  {
   "cell_type": "code",
   "execution_count": 2,
   "metadata": {},
   "outputs": [],
   "source": [
    "import pandas as pd\n",
    "from sklearn.preprocessing import LabelEncoder, OneHotEncoder\n",
    "import numpy as np\n",
    "import matplotlib.pyplot as plt\n",
    "import random"
   ]
  },
  {
   "cell_type": "code",
   "execution_count": 3,
   "metadata": {},
   "outputs": [
    {
     "name": "stdout",
     "output_type": "stream",
     "text": [
      "Initial dataset shape:(891, 11)\n",
      "Mr.        517\n",
      "Miss.      182\n",
      "Mrs.       125\n",
      "Master.     40\n",
      "Unknown     27\n",
      "Name: Name, dtype: int64\n",
      "(891, 163)\n"
     ]
    },
    {
     "name": "stderr",
     "output_type": "stream",
     "text": [
      "/usr/local/lib/python3.5/dist-packages/ipykernel_launcher.py:51: SettingWithCopyWarning: \n",
      "A value is trying to be set on a copy of a slice from a DataFrame.\n",
      "Try using .loc[row_indexer,col_indexer] = value instead\n",
      "\n",
      "See the caveats in the documentation: http://pandas.pydata.org/pandas-docs/stable/indexing.html#indexing-view-versus-copy\n",
      "/usr/local/lib/python3.5/dist-packages/ipykernel_launcher.py:54: SettingWithCopyWarning: \n",
      "A value is trying to be set on a copy of a slice from a DataFrame.\n",
      "Try using .loc[row_indexer,col_indexer] = value instead\n",
      "\n",
      "See the caveats in the documentation: http://pandas.pydata.org/pandas-docs/stable/indexing.html#indexing-view-versus-copy\n"
     ]
    }
   ],
   "source": [
    "dataset = pd.read_csv(\"train.csv\", index_col=\"PassengerId\")\n",
    "print(\"Initial dataset shape:{}\".format(dataset.shape))\n",
    "#print(dataset.head())\n",
    "def pipe(dataset):\n",
    "    \n",
    "    y = dataset[\"Survived\"]\n",
    "    dataset = dataset.drop([\"Survived\"], axis=1)\n",
    "    x = pretify(dataset, False)\n",
    "    return (x,y)\n",
    "\n",
    "ohe = OneHotEncoder()\n",
    "le = LabelEncoder()\n",
    "\n",
    "def pretify(dataset, prod=True):\n",
    "    title_list = [\"Mr.\", \"Master.\", \"Mrs.\", \"Miss.\"]\n",
    "    \n",
    "    # http://grammarist.com/usage/mr-mrs-ms-and-miss/\n",
    "    def map_names(name):\n",
    "        for title in title_list:\n",
    "            if title in name:\n",
    "                return title\n",
    "        return \"Unknown\"\n",
    "            \n",
    "    dataset[\"Name\"] = dataset[\"Name\"].map(map_names)\n",
    "    \n",
    "    print(dataset[\"Name\"].value_counts())\n",
    "    def slice_and_get_mean_age_by_name(name):\n",
    "        return dataset.loc[dataset[\"Name\"] == name, \"Age\"].mean()\n",
    "    \n",
    "    age_means = {k:slice_and_get_mean_age_by_name(k) for k in [\"Mr.\", \"Master.\", \"Mrs.\", \"Miss.\", \"Unknown\"]}\n",
    "    \n",
    "    def fill_age(row):\n",
    "        if np.isnan(row[3]):\n",
    "            row[3] = age_means[row[1]]\n",
    "        return row\n",
    "        \n",
    "    dataset = dataset.apply(fill_age, axis=1)\n",
    "    \n",
    "    x = dataset.drop([\"Cabin\", \"Embarked\",\"Sex\", \"Ticket\", \"Name\"], axis=1)\n",
    "    \n",
    "    x[\"Fare\"] = x[\"Fare\"].fillna(x[\"Fare\"].mean())\n",
    "    \n",
    "    ix=[i for i in dataset.columns if i in [\"Embarked\", \"Sex\", \"Cabin\", \"Name\"]]\n",
    "    \n",
    "    x_cat = dataset[ix];\n",
    "    \n",
    "    cabin_list = list(\"ABCDEFTG\")\n",
    "    def map_cabin(cabin):\n",
    "        return str(cabin)\n",
    "    \n",
    "    x_cat[\"Cabin\"] = x_cat[\"Cabin\"].map(map_cabin)\n",
    "    \n",
    "    towns = list(\"CQS\")\n",
    "    x_cat[\"Embarked\"] = x_cat[\"Embarked\"].fillna(random.choice(towns))\n",
    "    \n",
    "    x_cat = x_cat.apply(le.fit_transform)\n",
    "    \n",
    "#     if not prod:\n",
    "#         x_cat.apply((lambda col: le.fit(col)))\n",
    "        \n",
    "#     x_cat = x_cat.apply(le.transform)\n",
    "    \n",
    "    if not prod:\n",
    "        ohe.fit(x_cat)\n",
    "    \n",
    "    x_cat_encoded = ohe.transform(x_cat)\n",
    "    x = np.column_stack((x, x_cat_encoded.toarray()))\n",
    "    \n",
    "    \n",
    "    return x\n",
    "\n",
    "dataset_X, dataset_y = pipe(dataset)\n",
    "print(dataset_X.shape)"
   ]
  },
  {
   "cell_type": "code",
   "execution_count": 4,
   "metadata": {},
   "outputs": [
    {
     "name": "stdout",
     "output_type": "stream",
     "text": [
      "(668, 163)\n"
     ]
    }
   ],
   "source": [
    "from sklearn.model_selection import train_test_split\n",
    "train_X , test_X, train_y, test_y = train_test_split(dataset_X, dataset_y, random_state=26)\n",
    "\n",
    "print(train_X.shape)\n"
   ]
  },
  {
   "cell_type": "code",
   "execution_count": 5,
   "metadata": {},
   "outputs": [
    {
     "name": "stdout",
     "output_type": "stream",
     "text": [
      "Train score is 0.8562874251497006\n",
      "Test score is 0.8340807174887892\n",
      "\n",
      "using alpha = 0.0001\n",
      "Train score is 0.8877245508982036\n",
      "Test score is 0.8251121076233184\n",
      "\n",
      "using alpha = 0.001\n",
      "Train score is 0.8877245508982036\n",
      "Test score is 0.8251121076233184\n",
      "\n",
      "using alpha = 0.01\n",
      "Train score is 0.8877245508982036\n",
      "Test score is 0.8251121076233184\n",
      "\n",
      "using alpha = 0.1\n",
      "Train score is 0.8877245508982036\n",
      "Test score is 0.8251121076233184\n",
      "\n",
      "using alpha = 1\n",
      "Train score is 0.8862275449101796\n",
      "Test score is 0.8251121076233184\n",
      "\n",
      "using alpha = 10\n",
      "Train score is 0.8502994011976048\n",
      "Test score is 0.8295964125560538\n",
      "\n",
      "using alpha = 100\n",
      "Train score is 0.8218562874251497\n",
      "Test score is 0.8161434977578476\n",
      "\n",
      "using alpha = 1000\n",
      "Train score is 0.7619760479041916\n",
      "Test score is 0.7309417040358744\n",
      "\n"
     ]
    }
   ],
   "source": [
    "from sklearn.linear_model import LogisticRegression\n",
    "\n",
    "model = LogisticRegression()\n",
    "model.fit(train_X, train_y)\n",
    "\n",
    "def print_score(train, test):\n",
    "    print(\"Train score is {}\".format(train))\n",
    "    print(\"Test score is {}\".format(test))\n",
    "    print(\"\")\n",
    "\n",
    "print_score(model.score(train_X, train_y), model.score(test_X, test_y))\n",
    "alphas = [0.0001, 0.001, 0.01, 0.1, 1, 10, 100, 1000]\n",
    "#alphas = [100]\n",
    "for alpha in alphas:\n",
    "    \n",
    "    from sklearn.linear_model import RidgeClassifier\n",
    "    model2 = RidgeClassifier(alpha)\n",
    "    model2.fit(train_X, train_y)\n",
    "    print(\"using alpha = {}\".format(alpha))\n",
    "    print(\"Train score is {}\".format(model2.score(train_X, train_y)))\n",
    "    print(\"Test score is {}\".format(model2.score(test_X, test_y)))\n",
    "    print(\"\")"
   ]
  },
  {
   "cell_type": "code",
   "execution_count": 6,
   "metadata": {},
   "outputs": [],
   "source": [
    "def save(prediction):\n",
    "    df = pd.DataFrame(data={\"Survived\": prediction}, index=test_data[\"PassengerId\"])\n",
    "    df.to_csv(\"with_data_cleaning.csv\")"
   ]
  },
  {
   "cell_type": "code",
   "execution_count": 7,
   "metadata": {},
   "outputs": [
    {
     "name": "stdout",
     "output_type": "stream",
     "text": [
      "Train score is 0.812874251497006\n",
      "Test score is 0.7085201793721974\n",
      "\n"
     ]
    }
   ],
   "source": [
    "from sklearn.neighbors import KNeighborsClassifier\n",
    "\n",
    "knn_model = KNeighborsClassifier()\n",
    "knn_model.fit(train_X, train_y)\n",
    "\n",
    "print_score(knn_model.score(train_X, train_y), knn_model.score(test_X, test_y))"
   ]
  },
  {
   "cell_type": "code",
   "execution_count": 8,
   "metadata": {},
   "outputs": [
    {
     "name": "stdout",
     "output_type": "stream",
     "text": [
      "Train score is 0.812874251497006\n",
      "Test score is 0.7085201793721974\n",
      "\n"
     ]
    },
    {
     "name": "stderr",
     "output_type": "stream",
     "text": [
      "/usr/local/lib/python3.5/dist-packages/sklearn/linear_model/stochastic_gradient.py:84: FutureWarning: max_iter and tol parameters have been added in <class 'sklearn.linear_model.stochastic_gradient.SGDClassifier'> in 0.19. If both are left unset, they default to max_iter=5 and tol=None. If tol is not None, max_iter defaults to max_iter=1000. From 0.21, default max_iter will be 1000, and default tol will be 1e-3.\n",
      "  \"and default tol will be 1e-3.\" % type(self), FutureWarning)\n"
     ]
    }
   ],
   "source": [
    "from sklearn.linear_model import SGDClassifier\n",
    "\n",
    "sdg_model = SGDClassifier()\n",
    "sdg_model.fit(train_X, train_y)\n",
    "\n",
    "print_score(knn_model.score(train_X, train_y), knn_model.score(test_X, test_y))"
   ]
  },
  {
   "cell_type": "code",
   "execution_count": 9,
   "metadata": {},
   "outputs": [
    {
     "name": "stdout",
     "output_type": "stream",
     "text": [
      "Train score is 0.9730538922155688\n",
      "Test score is 0.8251121076233184\n",
      "\n"
     ]
    }
   ],
   "source": [
    "from sklearn.ensemble import RandomForestClassifier\n",
    "\n",
    "random_f_model = RandomForestClassifier(random_state=0)\n",
    "random_f_model.fit(train_X, train_y)\n",
    "\n",
    "print_score(random_f_model.score(train_X, train_y), random_f_model.score(test_X, test_y))"
   ]
  },
  {
   "cell_type": "code",
   "execution_count": 273,
   "metadata": {},
   "outputs": [
    {
     "name": "stdout",
     "output_type": "stream",
     "text": [
      "Mr.        240\n",
      "Miss.       78\n",
      "Mrs.        72\n",
      "Master.     21\n",
      "Unknown      7\n",
      "Name: Name, dtype: int64\n"
     ]
    },
    {
     "name": "stderr",
     "output_type": "stream",
     "text": [
      "/usr/local/lib/python3.5/dist-packages/ipykernel_launcher.py:51: SettingWithCopyWarning: \n",
      "A value is trying to be set on a copy of a slice from a DataFrame.\n",
      "Try using .loc[row_indexer,col_indexer] = value instead\n",
      "\n",
      "See the caveats in the documentation: http://pandas.pydata.org/pandas-docs/stable/indexing.html#indexing-view-versus-copy\n",
      "/usr/local/lib/python3.5/dist-packages/ipykernel_launcher.py:54: SettingWithCopyWarning: \n",
      "A value is trying to be set on a copy of a slice from a DataFrame.\n",
      "Try using .loc[row_indexer,col_indexer] = value instead\n",
      "\n",
      "See the caveats in the documentation: http://pandas.pydata.org/pandas-docs/stable/indexing.html#indexing-view-versus-copy\n"
     ]
    }
   ],
   "source": [
    "test_data = pd.read_csv(\"test.csv\")\n",
    "test_data_processed = pretify(test_data.drop([\"PassengerId\"], axis=1))\n",
    "\n",
    "#prediction = random_f_model.predict(test_data_processed)\n",
    "#prediction = model2.predict(test_data_processed)\n",
    "prediction = model.predict(test_data_processed)\n",
    "\n",
    "\n",
    "save(prediction)"
   ]
  },
  {
   "cell_type": "code",
   "execution_count": null,
   "metadata": {},
   "outputs": [],
   "source": []
  }
 ],
 "metadata": {
  "kernelspec": {
   "display_name": "Python 3",
   "language": "python",
   "name": "python3"
  },
  "language_info": {
   "codemirror_mode": {
    "name": "ipython",
    "version": 3
   },
   "file_extension": ".py",
   "mimetype": "text/x-python",
   "name": "python",
   "nbconvert_exporter": "python",
   "pygments_lexer": "ipython3",
   "version": "3.5.2"
  }
 },
 "nbformat": 4,
 "nbformat_minor": 2
}

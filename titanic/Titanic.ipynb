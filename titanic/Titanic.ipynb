{
 "cells": [
  {
   "cell_type": "markdown",
   "metadata": {},
   "source": [
    "В модела включвам всички налични данни (Общо взето овърфитвам, но дава най-добър резултат в kaggle засега). Разделям фичърите на два типа, тикива чиито стойности са числа и друг тип низове. Сливам всички данни, които са ми предоставени train + test, за да може енкодинга да обхване всички възможни стойности.\n",
    "\n",
    "Числов тип:\n",
    "* Age\n",
    "* Fare\n",
    "* SibSp\n",
    "* Parch\n",
    "\n",
    "Тип низове(третирам ги като категории)\n",
    "* Pclass\n",
    "* Embarked\n",
    "* Sex\n",
    "* Cabin\n",
    "* Name\n",
    "* Ticket\n",
    "\n",
    "\n",
    "Правя нужни обработки:\n",
    "\n",
    "1. От всяко име на човек се опитвам да взема титлата, ако не успея я маркирам като 'Unknown'. Слагам титлата като име на пътника.\n",
    "2. За да попълня по-точно липсващите години на пътници, за всяка титла намирам средната възраст и попълвам с нея.\n",
    "3. Попълвам:\n",
    "  * липсващaта цена на пътуването (Fare) със средната стойност. Интересно би било да се попълни спрямо класата, но не липсват достатъчно много, за да има разлика.\n",
    "  * липсващите места на отплаване (Embarked) ги попълвам с Q (най-малко хора са тръгнали от там)\n",
    "  * (част от липсващите Cabin най-вероятно може да се попълнят на база семейните връзки, но не съм го разглеждал)\n",
    "4. Включвам номера на билета, тъй като се образуват клъстери от хора използващи едни и същи билети и това подобрява резултата на модел-а.\n",
    "5. Ползвам LabelEncoder + OneHotEncoder, за обработката на категориите\n"
   ]
  },
  {
   "cell_type": "code",
   "execution_count": 1,
   "metadata": {},
   "outputs": [],
   "source": [
    "import pandas as pd\n",
    "import numpy as np\n",
    "import matplotlib.pyplot as plt"
   ]
  },
  {
   "cell_type": "code",
   "execution_count": null,
   "metadata": {},
   "outputs": [],
   "source": [
    "train = pd.read_csv(\"train.csv\", index_col=\"PassengerId\")\n",
    "\n"
   ]
  },
  {
   "cell_type": "code",
   "execution_count": null,
   "metadata": {},
   "outputs": [],
   "source": [
    "from sklearn.pipeline import Pipeline, FeatureUnion\n",
    "\n",
    "\n",
    "pipe = Pipeline([(), ()])"
   ]
  }
 ],
 "metadata": {
  "kernelspec": {
   "display_name": "Python 3",
   "language": "python",
   "name": "python3"
  },
  "language_info": {
   "codemirror_mode": {
    "name": "ipython",
    "version": 3
   },
   "file_extension": ".py",
   "mimetype": "text/x-python",
   "name": "python",
   "nbconvert_exporter": "python",
   "pygments_lexer": "ipython3",
   "version": "3.5.2"
  }
 },
 "nbformat": 4,
 "nbformat_minor": 2
}

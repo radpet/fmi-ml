{
 "cells": [
  {
   "cell_type": "code",
   "execution_count": 238,
   "metadata": {},
   "outputs": [],
   "source": [
    "import pandas as pd\n",
    "from sklearn.preprocessing import LabelEncoder, OneHotEncoder\n",
    "import numpy as np\n",
    "import matplotlib.pyplot as plt\n",
    "import random"
   ]
  },
  {
   "cell_type": "code",
   "execution_count": 255,
   "metadata": {},
   "outputs": [
    {
     "name": "stdout",
     "output_type": "stream",
     "text": [
      "Initial dataset shape:(891, 11)\n",
      "Mr.        517\n",
      "Miss.      182\n",
      "Mrs.       125\n",
      "Master.     40\n",
      "Unknown     27\n",
      "Name: Name, dtype: int64\n",
      "(891, 163)\n"
     ]
    },
    {
     "name": "stderr",
     "output_type": "stream",
     "text": [
      "/usr/local/lib/python3.5/dist-packages/ipykernel_launcher.py:50: SettingWithCopyWarning: \n",
      "A value is trying to be set on a copy of a slice from a DataFrame.\n",
      "Try using .loc[row_indexer,col_indexer] = value instead\n",
      "\n",
      "See the caveats in the documentation: http://pandas.pydata.org/pandas-docs/stable/indexing.html#indexing-view-versus-copy\n",
      "/usr/local/lib/python3.5/dist-packages/ipykernel_launcher.py:53: SettingWithCopyWarning: \n",
      "A value is trying to be set on a copy of a slice from a DataFrame.\n",
      "Try using .loc[row_indexer,col_indexer] = value instead\n",
      "\n",
      "See the caveats in the documentation: http://pandas.pydata.org/pandas-docs/stable/indexing.html#indexing-view-versus-copy\n"
     ]
    }
   ],
   "source": [
    "dataset = pd.read_csv(\"train.csv\", index_col=\"PassengerId\")\n",
    "print(\"Initial dataset shape:{}\".format(dataset.shape))\n",
    "#print(dataset.head())\n",
    "def pipe(dataset):\n",
    "    \n",
    "    y = dataset[\"Survived\"]\n",
    "    dataset = dataset.drop([\"Survived\"], axis=1)\n",
    "    x = pretify(dataset, False)\n",
    "    return (x,y)\n",
    "\n",
    "ohe = OneHotEncoder()\n",
    "\n",
    "def pretify(dataset, prod=True):\n",
    "    title_list = [\"Mr.\", \"Master.\", \"Mrs.\", \"Miss.\"]\n",
    "    \n",
    "    # http://grammarist.com/usage/mr-mrs-ms-and-miss/\n",
    "    def map_names(name):\n",
    "        for title in title_list:\n",
    "            if title in name:\n",
    "                return title\n",
    "        return \"Unknown\"\n",
    "            \n",
    "    dataset[\"Name\"] = dataset[\"Name\"].map(map_names)\n",
    "    \n",
    "    print(dataset[\"Name\"].value_counts())\n",
    "    def slice_and_get_mean_age_by_name(name):\n",
    "        return dataset.loc[dataset[\"Name\"] == name, \"Age\"].mean()\n",
    "    \n",
    "    age_means = {k:slice_and_get_mean_age_by_name(k) for k in [\"Mr.\", \"Master.\", \"Mrs.\", \"Miss.\", \"Unknown\"]}\n",
    "    \n",
    "    def fill_age(row):\n",
    "        if np.isnan(row[3]):\n",
    "            row[3] = age_means[row[1]]\n",
    "        return row\n",
    "        \n",
    "    dataset = dataset.apply(fill_age, axis=1)\n",
    "    \n",
    "    x = dataset.drop([\"Cabin\", \"Embarked\",\"Sex\", \"Ticket\", \"Name\"], axis=1)\n",
    "    \n",
    "    x[\"Fare\"] = x[\"Fare\"].fillna(x[\"Fare\"].mean())\n",
    "    \n",
    "    ix=[i for i in dataset.columns if i in [\"Embarked\", \"Sex\", \"Cabin\", \"Name\"]]\n",
    "    \n",
    "    x_cat = dataset[ix];\n",
    "    \n",
    "    cabin_list = list(\"ABCDEFTG\")\n",
    "    def map_cabin(cabin):\n",
    "        return str(cabin)\n",
    "    \n",
    "    x_cat[\"Cabin\"] = x_cat[\"Cabin\"].map(map_cabin)\n",
    "    \n",
    "    towns = list(\"CQS\")\n",
    "    x_cat[\"Embarked\"] = x_cat[\"Embarked\"].fillna(random.choice(towns))\n",
    "    \n",
    "    x_cat = x_cat.apply(LabelEncoder().fit_transform)\n",
    "    \n",
    "    if not prod:\n",
    "        ohe.fit(x_cat)\n",
    "    \n",
    "    x_cat_encoded = ohe.transform(x_cat)\n",
    "    x = np.column_stack((x, x_cat_encoded.toarray()))\n",
    "    \n",
    "    \n",
    "    return x\n",
    "\n",
    "dataset_X, dataset_y = pipe(dataset)\n",
    "print(dataset_X.shape)"
   ]
  },
  {
   "cell_type": "code",
   "execution_count": 256,
   "metadata": {},
   "outputs": [
    {
     "name": "stdout",
     "output_type": "stream",
     "text": [
      "(668, 163)\n"
     ]
    }
   ],
   "source": [
    "from sklearn.model_selection import train_test_split\n",
    "train_X , test_X, train_y, test_y = train_test_split(dataset_X, dataset_y, random_state=26)\n",
    "\n",
    "print(train_X.shape)\n"
   ]
  },
  {
   "cell_type": "code",
   "execution_count": 257,
   "metadata": {},
   "outputs": [
    {
     "name": "stdout",
     "output_type": "stream",
     "text": [
      "Train score is 0.8562874251497006\n",
      "Test score is 0.8340807174887892\n",
      "\n",
      "using alpha = 0.0001\n",
      "Train score is 0.8877245508982036\n",
      "Test score is 0.8251121076233184\n",
      "\n",
      "using alpha = 0.001\n",
      "Train score is 0.8877245508982036\n",
      "Test score is 0.8251121076233184\n",
      "\n",
      "using alpha = 0.01\n",
      "Train score is 0.8877245508982036\n",
      "Test score is 0.8251121076233184\n",
      "\n",
      "using alpha = 0.1\n",
      "Train score is 0.8877245508982036\n",
      "Test score is 0.8251121076233184\n",
      "\n",
      "using alpha = 1\n",
      "Train score is 0.8862275449101796\n",
      "Test score is 0.8251121076233184\n",
      "\n",
      "using alpha = 10\n",
      "Train score is 0.8502994011976048\n",
      "Test score is 0.8295964125560538\n",
      "\n",
      "using alpha = 100\n",
      "Train score is 0.8218562874251497\n",
      "Test score is 0.8161434977578476\n",
      "\n",
      "using alpha = 1000\n",
      "Train score is 0.7619760479041916\n",
      "Test score is 0.7309417040358744\n",
      "\n"
     ]
    }
   ],
   "source": [
    "from sklearn.linear_model import LogisticRegression\n",
    "\n",
    "model = LogisticRegression()\n",
    "model.fit(train_X, train_y)\n",
    "\n",
    "def print_score(train, test):\n",
    "    print(\"Train score is {}\".format(train))\n",
    "    print(\"Test score is {}\".format(test))\n",
    "    print(\"\")\n",
    "\n",
    "print_score(model.score(train_X, train_y), model.score(test_X, test_y))\n",
    "alphas = [0.0001, 0.001, 0.01, 0.1, 1, 10, 100, 1000]\n",
    "#alphas = [100]\n",
    "for alpha in alphas:\n",
    "    \n",
    "    from sklearn.linear_model import RidgeClassifier\n",
    "    model2 = RidgeClassifier(alpha)\n",
    "    model2.fit(train_X, train_y)\n",
    "    print(\"using alpha = {}\".format(alpha))\n",
    "    print(\"Train score is {}\".format(model2.score(train_X, train_y)))\n",
    "    print(\"Test score is {}\".format(model2.score(test_X, test_y)))\n",
    "    print(\"\")"
   ]
  },
  {
   "cell_type": "code",
   "execution_count": 243,
   "metadata": {},
   "outputs": [],
   "source": [
    "def save(prediction):\n",
    "    df = pd.DataFrame(data={\"Survived\": prediction}, index=test_data[\"PassengerId\"])\n",
    "    df.to_csv(\"with_data_cleaning.csv\")"
   ]
  },
  {
   "cell_type": "code",
   "execution_count": 244,
   "metadata": {},
   "outputs": [
    {
     "name": "stdout",
     "output_type": "stream",
     "text": [
      "Train score is 0.812874251497006\n",
      "Test score is 0.7085201793721974\n",
      "\n"
     ]
    }
   ],
   "source": [
    "from sklearn.neighbors import KNeighborsClassifier\n",
    "\n",
    "knn_model = KNeighborsClassifier()\n",
    "knn_model.fit(train_X, train_y)\n",
    "\n",
    "print_score(knn_model.score(train_X, train_y), knn_model.score(test_X, test_y))"
   ]
  },
  {
   "cell_type": "code",
   "execution_count": 245,
   "metadata": {},
   "outputs": [
    {
     "name": "stdout",
     "output_type": "stream",
     "text": [
      "Train score is 0.812874251497006\n",
      "Test score is 0.7085201793721974\n",
      "\n"
     ]
    },
    {
     "name": "stderr",
     "output_type": "stream",
     "text": [
      "/usr/local/lib/python3.5/dist-packages/sklearn/linear_model/stochastic_gradient.py:84: FutureWarning: max_iter and tol parameters have been added in <class 'sklearn.linear_model.stochastic_gradient.SGDClassifier'> in 0.19. If both are left unset, they default to max_iter=5 and tol=None. If tol is not None, max_iter defaults to max_iter=1000. From 0.21, default max_iter will be 1000, and default tol will be 1e-3.\n",
      "  \"and default tol will be 1e-3.\" % type(self), FutureWarning)\n"
     ]
    }
   ],
   "source": [
    "from sklearn.linear_model import SGDClassifier\n",
    "\n",
    "sdg_model = SGDClassifier()\n",
    "sdg_model.fit(train_X, train_y)\n",
    "\n",
    "print_score(knn_model.score(train_X, train_y), knn_model.score(test_X, test_y))"
   ]
  },
  {
   "cell_type": "code",
   "execution_count": 246,
   "metadata": {},
   "outputs": [
    {
     "name": "stdout",
     "output_type": "stream",
     "text": [
      "Train score is 0.9700598802395209\n",
      "Test score is 0.8116591928251121\n",
      "\n"
     ]
    }
   ],
   "source": [
    "from sklearn.ensemble import RandomForestClassifier\n",
    "\n",
    "random_f_model = RandomForestClassifier(random_state=0)\n",
    "random_f_model.fit(train_X, train_y)\n",
    "\n",
    "print_score(random_f_model.score(train_X, train_y), random_f_model.score(test_X, test_y))"
   ]
  },
  {
   "cell_type": "code",
   "execution_count": 249,
   "metadata": {},
   "outputs": [
    {
     "name": "stdout",
     "output_type": "stream",
     "text": [
      "Mr.        240\n",
      "Miss.       78\n",
      "Mrs.        72\n",
      "Master.     21\n",
      "Unknown      7\n",
      "Name: Name, dtype: int64\n"
     ]
    },
    {
     "name": "stderr",
     "output_type": "stream",
     "text": [
      "/usr/local/lib/python3.5/dist-packages/ipykernel_launcher.py:55: SettingWithCopyWarning: \n",
      "A value is trying to be set on a copy of a slice from a DataFrame.\n",
      "Try using .loc[row_indexer,col_indexer] = value instead\n",
      "\n",
      "See the caveats in the documentation: http://pandas.pydata.org/pandas-docs/stable/indexing.html#indexing-view-versus-copy\n",
      "/usr/local/lib/python3.5/dist-packages/ipykernel_launcher.py:58: SettingWithCopyWarning: \n",
      "A value is trying to be set on a copy of a slice from a DataFrame.\n",
      "Try using .loc[row_indexer,col_indexer] = value instead\n",
      "\n",
      "See the caveats in the documentation: http://pandas.pydata.org/pandas-docs/stable/indexing.html#indexing-view-versus-copy\n"
     ]
    },
    {
     "ename": "ValueError",
     "evalue": "bad input shape (418, 4)",
     "output_type": "error",
     "traceback": [
      "\u001b[0;31m---------------------------------------------------------------------------\u001b[0m",
      "\u001b[0;31mValueError\u001b[0m                                Traceback (most recent call last)",
      "\u001b[0;32m<ipython-input-249-bd1cc3f21de1>\u001b[0m in \u001b[0;36m<module>\u001b[0;34m()\u001b[0m\n\u001b[1;32m      1\u001b[0m \u001b[0mtest_data\u001b[0m \u001b[0;34m=\u001b[0m \u001b[0mpd\u001b[0m\u001b[0;34m.\u001b[0m\u001b[0mread_csv\u001b[0m\u001b[0;34m(\u001b[0m\u001b[0;34m\"test.csv\"\u001b[0m\u001b[0;34m)\u001b[0m\u001b[0;34m\u001b[0m\u001b[0m\n\u001b[0;32m----> 2\u001b[0;31m \u001b[0mtest_data_processed\u001b[0m \u001b[0;34m=\u001b[0m \u001b[0mpretify\u001b[0m\u001b[0;34m(\u001b[0m\u001b[0mtest_data\u001b[0m\u001b[0;34m.\u001b[0m\u001b[0mdrop\u001b[0m\u001b[0;34m(\u001b[0m\u001b[0;34m[\u001b[0m\u001b[0;34m\"PassengerId\"\u001b[0m\u001b[0;34m]\u001b[0m\u001b[0;34m,\u001b[0m \u001b[0maxis\u001b[0m\u001b[0;34m=\u001b[0m\u001b[0;36m1\u001b[0m\u001b[0;34m)\u001b[0m\u001b[0;34m)\u001b[0m\u001b[0;34m\u001b[0m\u001b[0m\n\u001b[0m\u001b[1;32m      3\u001b[0m \u001b[0;34m\u001b[0m\u001b[0m\n\u001b[1;32m      4\u001b[0m \u001b[0;31m#prediction = random_f_model.predict(test_data_processed)\u001b[0m\u001b[0;34m\u001b[0m\u001b[0;34m\u001b[0m\u001b[0m\n\u001b[1;32m      5\u001b[0m \u001b[0;31m#prediction = model2.predict(test_data_processed)\u001b[0m\u001b[0;34m\u001b[0m\u001b[0;34m\u001b[0m\u001b[0m\n",
      "\u001b[0;32m<ipython-input-248-d9cb768efefd>\u001b[0m in \u001b[0;36mpretify\u001b[0;34m(dataset, prod)\u001b[0m\n\u001b[1;32m     63\u001b[0m         \u001b[0mohe\u001b[0m\u001b[0;34m.\u001b[0m\u001b[0mfit\u001b[0m\u001b[0;34m(\u001b[0m\u001b[0mx_cat\u001b[0m\u001b[0;34m)\u001b[0m\u001b[0;34m\u001b[0m\u001b[0m\n\u001b[1;32m     64\u001b[0m     \u001b[0;32melse\u001b[0m\u001b[0;34m:\u001b[0m\u001b[0;34m\u001b[0m\u001b[0m\n\u001b[0;32m---> 65\u001b[0;31m         \u001b[0mx_cat\u001b[0m \u001b[0;34m=\u001b[0m \u001b[0mle\u001b[0m\u001b[0;34m.\u001b[0m\u001b[0mtransform\u001b[0m\u001b[0;34m(\u001b[0m\u001b[0mx_cat\u001b[0m\u001b[0;34m)\u001b[0m\u001b[0;34m\u001b[0m\u001b[0m\n\u001b[0m\u001b[1;32m     66\u001b[0m \u001b[0;34m\u001b[0m\u001b[0m\n\u001b[1;32m     67\u001b[0m     \u001b[0mx_cat_encoded\u001b[0m \u001b[0;34m=\u001b[0m \u001b[0mohe\u001b[0m\u001b[0;34m.\u001b[0m\u001b[0mtransform\u001b[0m\u001b[0;34m(\u001b[0m\u001b[0mx_cat\u001b[0m\u001b[0;34m)\u001b[0m\u001b[0;34m\u001b[0m\u001b[0m\n",
      "\u001b[0;32m/usr/local/lib/python3.5/dist-packages/sklearn/preprocessing/label.py\u001b[0m in \u001b[0;36mtransform\u001b[0;34m(self, y)\u001b[0m\n\u001b[1;32m    126\u001b[0m         \"\"\"\n\u001b[1;32m    127\u001b[0m         \u001b[0mcheck_is_fitted\u001b[0m\u001b[0;34m(\u001b[0m\u001b[0mself\u001b[0m\u001b[0;34m,\u001b[0m \u001b[0;34m'classes_'\u001b[0m\u001b[0;34m)\u001b[0m\u001b[0;34m\u001b[0m\u001b[0m\n\u001b[0;32m--> 128\u001b[0;31m         \u001b[0my\u001b[0m \u001b[0;34m=\u001b[0m \u001b[0mcolumn_or_1d\u001b[0m\u001b[0;34m(\u001b[0m\u001b[0my\u001b[0m\u001b[0;34m,\u001b[0m \u001b[0mwarn\u001b[0m\u001b[0;34m=\u001b[0m\u001b[0;32mTrue\u001b[0m\u001b[0;34m)\u001b[0m\u001b[0;34m\u001b[0m\u001b[0m\n\u001b[0m\u001b[1;32m    129\u001b[0m \u001b[0;34m\u001b[0m\u001b[0m\n\u001b[1;32m    130\u001b[0m         \u001b[0mclasses\u001b[0m \u001b[0;34m=\u001b[0m \u001b[0mnp\u001b[0m\u001b[0;34m.\u001b[0m\u001b[0munique\u001b[0m\u001b[0;34m(\u001b[0m\u001b[0my\u001b[0m\u001b[0;34m)\u001b[0m\u001b[0;34m\u001b[0m\u001b[0m\n",
      "\u001b[0;32m/usr/local/lib/python3.5/dist-packages/sklearn/utils/validation.py\u001b[0m in \u001b[0;36mcolumn_or_1d\u001b[0;34m(y, warn)\u001b[0m\n\u001b[1;32m    581\u001b[0m         \u001b[0;32mreturn\u001b[0m \u001b[0mnp\u001b[0m\u001b[0;34m.\u001b[0m\u001b[0mravel\u001b[0m\u001b[0;34m(\u001b[0m\u001b[0my\u001b[0m\u001b[0;34m)\u001b[0m\u001b[0;34m\u001b[0m\u001b[0m\n\u001b[1;32m    582\u001b[0m \u001b[0;34m\u001b[0m\u001b[0m\n\u001b[0;32m--> 583\u001b[0;31m     \u001b[0;32mraise\u001b[0m \u001b[0mValueError\u001b[0m\u001b[0;34m(\u001b[0m\u001b[0;34m\"bad input shape {0}\"\u001b[0m\u001b[0;34m.\u001b[0m\u001b[0mformat\u001b[0m\u001b[0;34m(\u001b[0m\u001b[0mshape\u001b[0m\u001b[0;34m)\u001b[0m\u001b[0;34m)\u001b[0m\u001b[0;34m\u001b[0m\u001b[0m\n\u001b[0m\u001b[1;32m    584\u001b[0m \u001b[0;34m\u001b[0m\u001b[0m\n\u001b[1;32m    585\u001b[0m \u001b[0;34m\u001b[0m\u001b[0m\n",
      "\u001b[0;31mValueError\u001b[0m: bad input shape (418, 4)"
     ]
    }
   ],
   "source": [
    "test_data = pd.read_csv(\"test.csv\")\n",
    "test_data_processed = pretify(test_data.drop([\"PassengerId\"], axis=1))\n",
    "\n",
    "#prediction = random_f_model.predict(test_data_processed)\n",
    "#prediction = model2.predict(test_data_processed)\n",
    "prediction = model.predict(test_data_processed)\n",
    "\n",
    "\n",
    "save(prediction)"
   ]
  },
  {
   "cell_type": "code",
   "execution_count": null,
   "metadata": {},
   "outputs": [],
   "source": []
  }
 ],
 "metadata": {
  "kernelspec": {
   "display_name": "Python 3",
   "language": "python",
   "name": "python3"
  },
  "language_info": {
   "codemirror_mode": {
    "name": "ipython",
    "version": 3
   },
   "file_extension": ".py",
   "mimetype": "text/x-python",
   "name": "python",
   "nbconvert_exporter": "python",
   "pygments_lexer": "ipython3",
   "version": "3.5.2"
  }
 },
 "nbformat": 4,
 "nbformat_minor": 2
}

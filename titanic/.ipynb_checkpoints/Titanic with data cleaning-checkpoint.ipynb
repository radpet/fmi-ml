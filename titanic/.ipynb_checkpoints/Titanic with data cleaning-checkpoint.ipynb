{
 "cells": [
  {
   "cell_type": "code",
   "execution_count": 154,
   "metadata": {},
   "outputs": [],
   "source": [
    "import pandas as pd\n",
    "from sklearn import preprocessing\n",
    "import numpy as np\n",
    "import matplotlib.pyplot as plt\n",
    "import random"
   ]
  },
  {
   "cell_type": "code",
   "execution_count": 341,
   "metadata": {},
   "outputs": [
    {
     "name": "stdout",
     "output_type": "stream",
     "text": [
      "Initial dataset shape:(891, 11)\n",
      "             Survived  Pclass  \\\n",
      "PassengerId                     \n",
      "1                   0       3   \n",
      "2                   1       1   \n",
      "3                   1       3   \n",
      "4                   1       1   \n",
      "5                   0       3   \n",
      "\n",
      "                                                          Name     Sex   Age  \\\n",
      "PassengerId                                                                    \n",
      "1                                      Braund, Mr. Owen Harris    male  22.0   \n",
      "2            Cumings, Mrs. John Bradley (Florence Briggs Th...  female  38.0   \n",
      "3                                       Heikkinen, Miss. Laina  female  26.0   \n",
      "4                 Futrelle, Mrs. Jacques Heath (Lily May Peel)  female  35.0   \n",
      "5                                     Allen, Mr. William Henry    male  35.0   \n",
      "\n",
      "             SibSp  Parch            Ticket     Fare Cabin Embarked  \n",
      "PassengerId                                                          \n",
      "1                1      0         A/5 21171   7.2500   NaN        S  \n",
      "2                1      0          PC 17599  71.2833   C85        C  \n",
      "3                0      0  STON/O2. 3101282   7.9250   NaN        S  \n",
      "4                1      0            113803  53.1000  C123        S  \n",
      "5                0      0            373450   8.0500   NaN        S  \n",
      "(891, 2)\n",
      "                Sex Embarked\n",
      "PassengerId                 \n",
      "1              male        S\n",
      "2            female        C\n",
      "3            female        S\n",
      "4            female        S\n",
      "5              male        S\n",
      "             Sex  Embarked\n",
      "PassengerId               \n",
      "1              1         2\n",
      "2              0         0\n",
      "3              0         2\n",
      "4              0         2\n",
      "5              1         2\n",
      "(891, 5)\n",
      "(891, 10)\n",
      "(891, 10)\n"
     ]
    },
    {
     "name": "stderr",
     "output_type": "stream",
     "text": [
      "/usr/local/lib/python3.5/dist-packages/ipykernel_launcher.py:37: SettingWithCopyWarning: \n",
      "A value is trying to be set on a copy of a slice from a DataFrame.\n",
      "Try using .loc[row_indexer,col_indexer] = value instead\n",
      "\n",
      "See the caveats in the documentation: http://pandas.pydata.org/pandas-docs/stable/indexing.html#indexing-view-versus-copy\n"
     ]
    }
   ],
   "source": [
    "dataset = pd.read_csv(\"train.csv\", index_col=\"PassengerId\")\n",
    "print(\"Initial dataset shape:{}\".format(dataset.shape))\n",
    "print(dataset.head())\n",
    "def pipe(dataset):\n",
    "    \n",
    "    y = dataset[\"Survived\"]\n",
    "    dataset = dataset.drop([\"Survived\"], axis=1)\n",
    "    x = pretify(dataset)\n",
    "    return (x,y)\n",
    "\n",
    "def pretify(dataset):\n",
    "    x = dataset.drop([\"Cabin\", \"Embarked\",\"Sex\", \"Name\", \"Ticket\"], axis=1)\n",
    "    x[\"Age\"] = x[\"Age\"].fillna(0)\n",
    "    x[\"Fare\"] = x[\"Fare\"].fillna(0)\n",
    "    \n",
    "    ix=[i for i in dataset.columns if i in [\"Embarked\", \"Sex\"]]  \n",
    "    \n",
    "    x_cat = dataset[ix];\n",
    "    \n",
    "    print(x_cat.shape)\n",
    "    \n",
    "    cabin_list = list(\"ABCDEFTG\")\n",
    "    def map_cabin(cabin):\n",
    "        for substring in str(cabin):\n",
    "            if substring in cabin_list:\n",
    "                return substring\n",
    "        \n",
    "       # if cabin is not None:\n",
    "         #   return str(cabin)\n",
    "        \n",
    "        return \"U\"\n",
    "    \n",
    "    #x_cat[\"Cabin\"] = x_cat[\"Cabin\"].map(map_cabin)\n",
    "    \n",
    "    import random\n",
    "    towns = list(\"CQS\")\n",
    "    x_cat[\"Embarked\"] = x_cat[\"Embarked\"].fillna(random.choice(towns))\n",
    "    \n",
    "    print(x_cat.head())\n",
    "    \n",
    "    x_cat = x_cat.apply(preprocessing.LabelEncoder().fit_transform)\n",
    "    \n",
    "    print(x_cat.head())\n",
    "    \n",
    "    ohe = preprocessing.OneHotEncoder()\n",
    "    ohe.fit(x_cat)\n",
    "    \n",
    "    x_cat_encoded = ohe.transform(x_cat)\n",
    "    \n",
    "    \n",
    "    #x = np.column_stack((x, x_cat))\n",
    "    print(x_cat_encoded.toarray().shape)\n",
    "    x = np.column_stack((x, x_cat_encoded.toarray()))\n",
    "    \n",
    "    print(x.shape)\n",
    "    \n",
    "    return x\n",
    "\n",
    "dataset_X, dataset_y = pipe(dataset)\n",
    "print(dataset_X.shape)"
   ]
  },
  {
   "cell_type": "code",
   "execution_count": 342,
   "metadata": {},
   "outputs": [
    {
     "name": "stdout",
     "output_type": "stream",
     "text": [
      "(668, 10)\n"
     ]
    }
   ],
   "source": [
    "from sklearn.model_selection import train_test_split\n",
    "train_X , test_X, train_y, test_y = train_test_split(dataset_X, dataset_y, random_state=26)\n",
    "\n",
    "print(train_X.shape)\n"
   ]
  },
  {
   "cell_type": "code",
   "execution_count": 343,
   "metadata": {},
   "outputs": [
    {
     "name": "stdout",
     "output_type": "stream",
     "text": [
      "Train score is 0.7919161676646707\n",
      "Test score is 0.7982062780269058\n",
      "\n",
      "using alpha = 0.1\n",
      "Train score is 0.7904191616766467\n",
      "Test score is 0.7757847533632287\n",
      "\n"
     ]
    }
   ],
   "source": [
    "from sklearn.linear_model import LogisticRegression\n",
    "\n",
    "model = LogisticRegression()\n",
    "model.fit(train_X, train_y)\n",
    "\n",
    "def print_score(train, test):\n",
    "    print(\"Train score is {}\".format(train))\n",
    "    print(\"Test score is {}\".format(test))\n",
    "    print(\"\")\n",
    "\n",
    "print_score(model.score(train_X, train_y), model.score(test_X, test_y))\n",
    "#alphas = [0.001, 0.01, 0.1, 1, 10, 100, 1000]\n",
    "alphas = [0.1]\n",
    "bestmodel2 = None\n",
    "for alpha in alphas:\n",
    "    \n",
    "    from sklearn.linear_model import RidgeClassifier\n",
    "    model2 = RidgeClassifier(alpha)\n",
    "    model2.fit(train_X, train_y)\n",
    "    print(\"using alpha = {}\".format(alpha))\n",
    "    print(\"Train score is {}\".format(model2.score(train_X, train_y)))\n",
    "    print(\"Test score is {}\".format(model2.score(test_X, test_y)))\n",
    "    print(\"\")"
   ]
  },
  {
   "cell_type": "code",
   "execution_count": 347,
   "metadata": {},
   "outputs": [
    {
     "name": "stdout",
     "output_type": "stream",
     "text": [
      "(418, 2)\n",
      "                Sex Embarked\n",
      "PassengerId                 \n",
      "892            male        Q\n",
      "893          female        S\n",
      "894            male        Q\n",
      "895            male        S\n",
      "896          female        S\n",
      "             Sex  Embarked\n",
      "PassengerId               \n",
      "892            1         1\n",
      "893            0         2\n",
      "894            1         1\n",
      "895            1         2\n",
      "896            0         2\n",
      "(418, 5)\n",
      "(418, 10)\n"
     ]
    },
    {
     "name": "stderr",
     "output_type": "stream",
     "text": [
      "/usr/local/lib/python3.5/dist-packages/ipykernel_launcher.py:37: SettingWithCopyWarning: \n",
      "A value is trying to be set on a copy of a slice from a DataFrame.\n",
      "Try using .loc[row_indexer,col_indexer] = value instead\n",
      "\n",
      "See the caveats in the documentation: http://pandas.pydata.org/pandas-docs/stable/indexing.html#indexing-view-versus-copy\n"
     ]
    },
    {
     "data": {
      "text/plain": [
       "array([0, 0, 0, 0, 1, 0, 1, 0, 1, 0, 0, 0, 1, 0, 1, 1, 0, 0, 1, 1, 0, 0, 1,\n",
       "       1, 1, 0, 1, 0, 0, 0, 0, 0, 1, 1, 0, 0, 1, 1, 0, 0, 0, 1, 0, 1, 1, 0,\n",
       "       0, 0, 1, 1, 0, 0, 1, 1, 0, 0, 0, 0, 0, 1, 0, 0, 0, 1, 1, 1, 1, 0, 1,\n",
       "       1, 1, 0, 1, 1, 1, 1, 0, 1, 0, 1, 0, 0, 0, 0, 0, 0, 1, 1, 1, 0, 1, 0,\n",
       "       1, 0, 1, 0, 1, 0, 1, 0, 1, 0, 0, 0, 1, 0, 0, 0, 0, 0, 0, 1, 1, 1, 1,\n",
       "       0, 0, 1, 1, 1, 1, 0, 1, 0, 0, 1, 0, 1, 0, 0, 0, 0, 1, 0, 0, 0, 0, 0,\n",
       "       1, 0, 0, 1, 1, 0, 0, 0, 1, 0, 1, 0, 1, 0, 0, 1, 0, 0, 1, 1, 0, 1, 1,\n",
       "       0, 1, 0, 0, 1, 0, 0, 1, 1, 0, 0, 0, 0, 0, 1, 1, 0, 1, 1, 0, 0, 1, 0,\n",
       "       1, 0, 1, 0, 0, 0, 0, 1, 0, 0, 0, 0, 1, 1, 0, 1, 1, 0, 1, 1, 0, 1, 1,\n",
       "       0, 1, 0, 0, 0, 0, 1, 0, 0, 1, 0, 1, 0, 1, 0, 1, 0, 1, 1, 0, 1, 0, 0,\n",
       "       0, 1, 0, 0, 0, 0, 0, 0, 1, 1, 1, 1, 0, 0, 0, 0, 1, 0, 1, 1, 1, 0, 1,\n",
       "       0, 0, 0, 0, 0, 1, 0, 0, 0, 1, 1, 0, 0, 0, 0, 1, 0, 1, 0, 1, 1, 0, 1,\n",
       "       0, 0, 0, 0, 1, 0, 1, 1, 1, 0, 0, 0, 0, 0, 1, 1, 0, 0, 0, 0, 1, 0, 0,\n",
       "       0, 0, 0, 0, 0, 1, 1, 0, 0, 0, 0, 0, 0, 0, 1, 1, 1, 0, 0, 0, 0, 0, 0,\n",
       "       0, 0, 1, 0, 1, 1, 0, 0, 1, 0, 0, 1, 0, 0, 0, 0, 0, 0, 0, 0, 0, 1, 0,\n",
       "       1, 0, 1, 0, 1, 1, 0, 0, 0, 1, 0, 1, 0, 0, 1, 0, 1, 1, 0, 1, 1, 0, 1,\n",
       "       1, 0, 0, 1, 0, 0, 1, 1, 0, 0, 0, 0, 0, 0, 1, 1, 0, 1, 0, 0, 0, 0, 0,\n",
       "       1, 0, 0, 0, 1, 0, 1, 0, 0, 1, 0, 1, 0, 0, 0, 0, 1, 1, 1, 1, 1, 1, 0,\n",
       "       1, 0, 0, 0])"
      ]
     },
     "execution_count": 347,
     "metadata": {},
     "output_type": "execute_result"
    }
   ],
   "source": [
    "test_data = pd.read_csv(\"test.csv\", index_col=\"PassengerId\")\n",
    "\n",
    "prediction = model.predict(pretify(test_data))\n",
    "\n",
    "prediction\n"
   ]
  },
  {
   "cell_type": "code",
   "execution_count": null,
   "metadata": {},
   "outputs": [],
   "source": [
    "df = pd.DataFrame(data={\"Survived\": prediction}, index=test_data[\"PassengerId\"])\n",
    "df.to_csv(\"with_data_cleaning.csv\")"
   ]
  },
  {
   "cell_type": "code",
   "execution_count": null,
   "metadata": {},
   "outputs": [],
   "source": []
  }
 ],
 "metadata": {
  "kernelspec": {
   "display_name": "Python 3",
   "language": "python",
   "name": "python3"
  },
  "language_info": {
   "codemirror_mode": {
    "name": "ipython",
    "version": 3
   },
   "file_extension": ".py",
   "mimetype": "text/x-python",
   "name": "python",
   "nbconvert_exporter": "python",
   "pygments_lexer": "ipython3",
   "version": "3.5.2"
  }
 },
 "nbformat": 4,
 "nbformat_minor": 2
}
